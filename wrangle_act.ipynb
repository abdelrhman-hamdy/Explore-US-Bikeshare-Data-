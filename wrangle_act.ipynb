{
 "cells": [
  {
   "cell_type": "code",
   "execution_count": 1,
   "metadata": {},
   "outputs": [],
   "source": [
    "import pandas as pd\n",
    "import requests\n",
    "import os\n",
    "import glob\n",
    "import tweepy\n",
    "import json\n",
    "import numpy as np\n",
    "import matplotlib.pyplot as plt\n",
    "import  seaborn as sns\n",
    "# i used stackoverflow, geeksforgeeks,df.plot() doucmentaion, and discourse of FWD to help me in implementing different parts of the project"
   ]
  },
  {
   "cell_type": "code",
   "execution_count": 2,
   "metadata": {},
   "outputs": [],
   "source": [
    "#will not use in the first time, but once you run 'gathering' code , you can after that upload your data directly using these lines of code\n",
    "twitter_arch_enhanc_df = pd.read_csv('twitter-archive-enhanced.csv')\n"
   ]
  },
  {
   "cell_type": "markdown",
   "metadata": {},
   "source": [
    "\n",
    "# Gathering"
   ]
  },
  {
   "cell_type": "markdown",
   "metadata": {},
   "source": [
    "- Downloading \"image-predictions.tsv\" from internet and saving it . "
   ]
  },
  {
   "cell_type": "code",
   "execution_count": 3,
   "metadata": {},
   "outputs": [],
   "source": [
    "url = 'https://d17h27t6h515a5.cloudfront.net/topher/2017/August/599fd2ad_image-predictions/image-predictions.tsv'\n",
    "response = requests.get(url) #requesting the file using the url\n",
    "file_name = url.split('/')[-1]\n",
    "\n",
    "if not os.path.isfile(file_name): #checking if the file exist locally\n",
    "    with open(file_name,mode = 'wb') as file : #create file\n",
    "        file.write(response.content) #write the content in the file\n",
    "        \n",
    "\n",
    "image_predictions_df = pd.read_csv(file_name, sep='\\t')"
   ]
  },
  {
   "cell_type": "markdown",
   "metadata": {},
   "source": [
    "- using Twitter API, and tweets id , i downloaded tweets information  as JSONs Files, saved locally in  the device , read it again ,extracted (retweet_counts, favourite likes, id) and created dataframe holds those values"
   ]
  },
  {
   "cell_type": "code",
   "execution_count": 4,
   "metadata": {
    "scrolled": false
   },
   "outputs": [],
   "source": [
    "if not os.path.isfile('tweet_json.txt'):\n",
    "    df_list = []     #use to hold  retweet_counts, id, and favourite_counts values to tranform to dataframe\n",
    "    data={}          # creating dicit to hold the tweet information in it\n",
    "    data['tweets_data']=[]  \n",
    "    counter = 0      # to keep track of how many tweets request sent\n",
    "\n",
    "    CONSUMER_KEY = 'omxYFPtY63AcoOsk6u6NwTY2q'\n",
    "    CONSUMER_SECRET = 'PLEB9JrFBS5EjEvDYlU2stYdYQbWXGQkbA2eENqiaSkbURo8O2'\n",
    "    access_token = '1175147464611041280-wx276YBa4gQAL5iG05h4rHTBdRsO4w'\n",
    "    access_secret = 'qEiYPoQRCtynkGTG6YwGQvaTdNuxjvWisG5ZeBHYUfa2v'\n",
    "\n",
    "    auth = tweepy.OAuthHandler(CONSUMER_KEY, CONSUMER_SECRET) #creating object\n",
    "    auth.set_access_token(access_token, access_secret)\n",
    "\n",
    "    api = tweepy.API(auth, wait_on_rate_limit=True, wait_on_rate_limit_notify=True)\n",
    "\n",
    "    for tweet_id in tweet_ids :  #looping throw tweets id  to download each tweet information\n",
    "\n",
    "        # using try-except in case that the tweet has been deleted\n",
    "        try : \n",
    "            tweet = api.get_status(tweet_id, tweet_mode='extended')\n",
    "            data['tweets_data'].append(tweet._json)\n",
    "            print(str(counter) + \" of tweets SUCCEEDED !, and the ID :  \" + str(tweet._json['id']) )\n",
    "            counter+=1\n",
    "\n",
    "        except : # putting 'None' values in the desired data if it has been deleted\n",
    "            print(str(counter) + \" of tweets FAILED !, and the ID :  \" + str(tweet_id) )\n",
    "            \n",
    "            #i made a mistake here that instead of wrote \"favorite_count\" i wrote 'favourites_count' so i had to \n",
    "            #make a \"try-except\" while loading data from 'tweet_json.txt' dataframe to take  \n",
    "            data['tweets_data'].append({'id' :tweet_id,'retweet_count':None ,'favorite_count':None})\n",
    "            counter+=1  \n",
    "            continue \n",
    "    \n",
    "\n",
    "    with open('tweet_json.txt','w') as handle_write : # write the list of dicits in a .txt file\n",
    "        json.dump(data, handle_write)\n",
    "\n",
    "    df_list = []  \n",
    "\n",
    "    with open('tweet_json.txt','r') as handle_read : \n",
    "        data_loaded = json.load(handle_read) # load the data\n",
    "\n",
    "        for line in data_loaded['tweets_data']: # looping through dicits in the list to extract tweets informations\n",
    "        \n",
    "            retweet_count=line['retweet_count']\n",
    "            favorite_count=line[\"favorite_count\"]\n",
    "            ID=line['id']\n",
    "            df_list.append({'tweet_id':ID ,'retweet_count': retweet_count ,'favorite_count':favorite_count})\n",
    "\n",
    "\n",
    "\n",
    "    addiontal_info_df = pd.DataFrame(df_list,columns=['tweet_id','retweet_count','favorite_count'])\n",
    "    addiontal_info_df.to_csv('addiontal_info.csv',index=False)\n",
    "    \n",
    "addiontal_info_df =pd.read_csv('addiontal_info.csv')"
   ]
  },
  {
   "cell_type": "markdown",
   "metadata": {},
   "source": [
    "# Asseesing"
   ]
  },
  {
   "cell_type": "code",
   "execution_count": 5,
   "metadata": {},
   "outputs": [
    {
     "data": {
      "text/html": [
       "<div>\n",
       "<style scoped>\n",
       "    .dataframe tbody tr th:only-of-type {\n",
       "        vertical-align: middle;\n",
       "    }\n",
       "\n",
       "    .dataframe tbody tr th {\n",
       "        vertical-align: top;\n",
       "    }\n",
       "\n",
       "    .dataframe thead th {\n",
       "        text-align: right;\n",
       "    }\n",
       "</style>\n",
       "<table border=\"1\" class=\"dataframe\">\n",
       "  <thead>\n",
       "    <tr style=\"text-align: right;\">\n",
       "      <th></th>\n",
       "      <th>tweet_id</th>\n",
       "      <th>in_reply_to_status_id</th>\n",
       "      <th>in_reply_to_user_id</th>\n",
       "      <th>timestamp</th>\n",
       "      <th>source</th>\n",
       "      <th>text</th>\n",
       "      <th>retweeted_status_id</th>\n",
       "      <th>retweeted_status_user_id</th>\n",
       "      <th>retweeted_status_timestamp</th>\n",
       "      <th>expanded_urls</th>\n",
       "      <th>rating_numerator</th>\n",
       "      <th>rating_denominator</th>\n",
       "      <th>name</th>\n",
       "      <th>doggo</th>\n",
       "      <th>floofer</th>\n",
       "      <th>pupper</th>\n",
       "      <th>puppo</th>\n",
       "    </tr>\n",
       "  </thead>\n",
       "  <tbody>\n",
       "    <tr>\n",
       "      <th>0</th>\n",
       "      <td>892420643555336193</td>\n",
       "      <td>NaN</td>\n",
       "      <td>NaN</td>\n",
       "      <td>2017-08-01 16:23:56 +0000</td>\n",
       "      <td>&lt;a href=\"http://twitter.com/download/iphone\" r...</td>\n",
       "      <td>This is Phineas. He's a mystical boy. Only eve...</td>\n",
       "      <td>NaN</td>\n",
       "      <td>NaN</td>\n",
       "      <td>NaN</td>\n",
       "      <td>https://twitter.com/dog_rates/status/892420643...</td>\n",
       "      <td>13</td>\n",
       "      <td>10</td>\n",
       "      <td>Phineas</td>\n",
       "      <td>None</td>\n",
       "      <td>None</td>\n",
       "      <td>None</td>\n",
       "      <td>None</td>\n",
       "    </tr>\n",
       "    <tr>\n",
       "      <th>1</th>\n",
       "      <td>892177421306343426</td>\n",
       "      <td>NaN</td>\n",
       "      <td>NaN</td>\n",
       "      <td>2017-08-01 00:17:27 +0000</td>\n",
       "      <td>&lt;a href=\"http://twitter.com/download/iphone\" r...</td>\n",
       "      <td>This is Tilly. She's just checking pup on you....</td>\n",
       "      <td>NaN</td>\n",
       "      <td>NaN</td>\n",
       "      <td>NaN</td>\n",
       "      <td>https://twitter.com/dog_rates/status/892177421...</td>\n",
       "      <td>13</td>\n",
       "      <td>10</td>\n",
       "      <td>Tilly</td>\n",
       "      <td>None</td>\n",
       "      <td>None</td>\n",
       "      <td>None</td>\n",
       "      <td>None</td>\n",
       "    </tr>\n",
       "    <tr>\n",
       "      <th>2</th>\n",
       "      <td>891815181378084864</td>\n",
       "      <td>NaN</td>\n",
       "      <td>NaN</td>\n",
       "      <td>2017-07-31 00:18:03 +0000</td>\n",
       "      <td>&lt;a href=\"http://twitter.com/download/iphone\" r...</td>\n",
       "      <td>This is Archie. He is a rare Norwegian Pouncin...</td>\n",
       "      <td>NaN</td>\n",
       "      <td>NaN</td>\n",
       "      <td>NaN</td>\n",
       "      <td>https://twitter.com/dog_rates/status/891815181...</td>\n",
       "      <td>12</td>\n",
       "      <td>10</td>\n",
       "      <td>Archie</td>\n",
       "      <td>None</td>\n",
       "      <td>None</td>\n",
       "      <td>None</td>\n",
       "      <td>None</td>\n",
       "    </tr>\n",
       "    <tr>\n",
       "      <th>3</th>\n",
       "      <td>891689557279858688</td>\n",
       "      <td>NaN</td>\n",
       "      <td>NaN</td>\n",
       "      <td>2017-07-30 15:58:51 +0000</td>\n",
       "      <td>&lt;a href=\"http://twitter.com/download/iphone\" r...</td>\n",
       "      <td>This is Darla. She commenced a snooze mid meal...</td>\n",
       "      <td>NaN</td>\n",
       "      <td>NaN</td>\n",
       "      <td>NaN</td>\n",
       "      <td>https://twitter.com/dog_rates/status/891689557...</td>\n",
       "      <td>13</td>\n",
       "      <td>10</td>\n",
       "      <td>Darla</td>\n",
       "      <td>None</td>\n",
       "      <td>None</td>\n",
       "      <td>None</td>\n",
       "      <td>None</td>\n",
       "    </tr>\n",
       "    <tr>\n",
       "      <th>4</th>\n",
       "      <td>891327558926688256</td>\n",
       "      <td>NaN</td>\n",
       "      <td>NaN</td>\n",
       "      <td>2017-07-29 16:00:24 +0000</td>\n",
       "      <td>&lt;a href=\"http://twitter.com/download/iphone\" r...</td>\n",
       "      <td>This is Franklin. He would like you to stop ca...</td>\n",
       "      <td>NaN</td>\n",
       "      <td>NaN</td>\n",
       "      <td>NaN</td>\n",
       "      <td>https://twitter.com/dog_rates/status/891327558...</td>\n",
       "      <td>12</td>\n",
       "      <td>10</td>\n",
       "      <td>Franklin</td>\n",
       "      <td>None</td>\n",
       "      <td>None</td>\n",
       "      <td>None</td>\n",
       "      <td>None</td>\n",
       "    </tr>\n",
       "  </tbody>\n",
       "</table>\n",
       "</div>"
      ],
      "text/plain": [
       "             tweet_id  in_reply_to_status_id  in_reply_to_user_id  \\\n",
       "0  892420643555336193                    NaN                  NaN   \n",
       "1  892177421306343426                    NaN                  NaN   \n",
       "2  891815181378084864                    NaN                  NaN   \n",
       "3  891689557279858688                    NaN                  NaN   \n",
       "4  891327558926688256                    NaN                  NaN   \n",
       "\n",
       "                   timestamp  \\\n",
       "0  2017-08-01 16:23:56 +0000   \n",
       "1  2017-08-01 00:17:27 +0000   \n",
       "2  2017-07-31 00:18:03 +0000   \n",
       "3  2017-07-30 15:58:51 +0000   \n",
       "4  2017-07-29 16:00:24 +0000   \n",
       "\n",
       "                                              source  \\\n",
       "0  <a href=\"http://twitter.com/download/iphone\" r...   \n",
       "1  <a href=\"http://twitter.com/download/iphone\" r...   \n",
       "2  <a href=\"http://twitter.com/download/iphone\" r...   \n",
       "3  <a href=\"http://twitter.com/download/iphone\" r...   \n",
       "4  <a href=\"http://twitter.com/download/iphone\" r...   \n",
       "\n",
       "                                                text  retweeted_status_id  \\\n",
       "0  This is Phineas. He's a mystical boy. Only eve...                  NaN   \n",
       "1  This is Tilly. She's just checking pup on you....                  NaN   \n",
       "2  This is Archie. He is a rare Norwegian Pouncin...                  NaN   \n",
       "3  This is Darla. She commenced a snooze mid meal...                  NaN   \n",
       "4  This is Franklin. He would like you to stop ca...                  NaN   \n",
       "\n",
       "   retweeted_status_user_id retweeted_status_timestamp  \\\n",
       "0                       NaN                        NaN   \n",
       "1                       NaN                        NaN   \n",
       "2                       NaN                        NaN   \n",
       "3                       NaN                        NaN   \n",
       "4                       NaN                        NaN   \n",
       "\n",
       "                                       expanded_urls  rating_numerator  \\\n",
       "0  https://twitter.com/dog_rates/status/892420643...                13   \n",
       "1  https://twitter.com/dog_rates/status/892177421...                13   \n",
       "2  https://twitter.com/dog_rates/status/891815181...                12   \n",
       "3  https://twitter.com/dog_rates/status/891689557...                13   \n",
       "4  https://twitter.com/dog_rates/status/891327558...                12   \n",
       "\n",
       "   rating_denominator      name doggo floofer pupper puppo  \n",
       "0                  10   Phineas  None    None   None  None  \n",
       "1                  10     Tilly  None    None   None  None  \n",
       "2                  10    Archie  None    None   None  None  \n",
       "3                  10     Darla  None    None   None  None  \n",
       "4                  10  Franklin  None    None   None  None  "
      ]
     },
     "execution_count": 5,
     "metadata": {},
     "output_type": "execute_result"
    }
   ],
   "source": [
    "twitter_arch_enhanc_df.head()"
   ]
  },
  {
   "cell_type": "code",
   "execution_count": 6,
   "metadata": {},
   "outputs": [
    {
     "data": {
      "text/html": [
       "<div>\n",
       "<style scoped>\n",
       "    .dataframe tbody tr th:only-of-type {\n",
       "        vertical-align: middle;\n",
       "    }\n",
       "\n",
       "    .dataframe tbody tr th {\n",
       "        vertical-align: top;\n",
       "    }\n",
       "\n",
       "    .dataframe thead th {\n",
       "        text-align: right;\n",
       "    }\n",
       "</style>\n",
       "<table border=\"1\" class=\"dataframe\">\n",
       "  <thead>\n",
       "    <tr style=\"text-align: right;\">\n",
       "      <th></th>\n",
       "      <th>tweet_id</th>\n",
       "      <th>retweet_count</th>\n",
       "      <th>favorite_count</th>\n",
       "    </tr>\n",
       "  </thead>\n",
       "  <tbody>\n",
       "    <tr>\n",
       "      <th>0</th>\n",
       "      <td>892420643555336193</td>\n",
       "      <td>7549.0</td>\n",
       "      <td>35712.0</td>\n",
       "    </tr>\n",
       "    <tr>\n",
       "      <th>1</th>\n",
       "      <td>892177421306343426</td>\n",
       "      <td>5594.0</td>\n",
       "      <td>30872.0</td>\n",
       "    </tr>\n",
       "    <tr>\n",
       "      <th>2</th>\n",
       "      <td>891815181378084864</td>\n",
       "      <td>3705.0</td>\n",
       "      <td>23207.0</td>\n",
       "    </tr>\n",
       "    <tr>\n",
       "      <th>3</th>\n",
       "      <td>891689557279858688</td>\n",
       "      <td>7730.0</td>\n",
       "      <td>39002.0</td>\n",
       "    </tr>\n",
       "    <tr>\n",
       "      <th>4</th>\n",
       "      <td>891327558926688256</td>\n",
       "      <td>8332.0</td>\n",
       "      <td>37260.0</td>\n",
       "    </tr>\n",
       "  </tbody>\n",
       "</table>\n",
       "</div>"
      ],
      "text/plain": [
       "             tweet_id  retweet_count  favorite_count\n",
       "0  892420643555336193         7549.0         35712.0\n",
       "1  892177421306343426         5594.0         30872.0\n",
       "2  891815181378084864         3705.0         23207.0\n",
       "3  891689557279858688         7730.0         39002.0\n",
       "4  891327558926688256         8332.0         37260.0"
      ]
     },
     "execution_count": 6,
     "metadata": {},
     "output_type": "execute_result"
    }
   ],
   "source": [
    "addiontal_info_df.head()"
   ]
  },
  {
   "cell_type": "code",
   "execution_count": 7,
   "metadata": {},
   "outputs": [
    {
     "data": {
      "text/html": [
       "<div>\n",
       "<style scoped>\n",
       "    .dataframe tbody tr th:only-of-type {\n",
       "        vertical-align: middle;\n",
       "    }\n",
       "\n",
       "    .dataframe tbody tr th {\n",
       "        vertical-align: top;\n",
       "    }\n",
       "\n",
       "    .dataframe thead th {\n",
       "        text-align: right;\n",
       "    }\n",
       "</style>\n",
       "<table border=\"1\" class=\"dataframe\">\n",
       "  <thead>\n",
       "    <tr style=\"text-align: right;\">\n",
       "      <th></th>\n",
       "      <th>tweet_id</th>\n",
       "      <th>jpg_url</th>\n",
       "      <th>img_num</th>\n",
       "      <th>p1</th>\n",
       "      <th>p1_conf</th>\n",
       "      <th>p1_dog</th>\n",
       "      <th>p2</th>\n",
       "      <th>p2_conf</th>\n",
       "      <th>p2_dog</th>\n",
       "      <th>p3</th>\n",
       "      <th>p3_conf</th>\n",
       "      <th>p3_dog</th>\n",
       "    </tr>\n",
       "  </thead>\n",
       "  <tbody>\n",
       "    <tr>\n",
       "      <th>0</th>\n",
       "      <td>666020888022790149</td>\n",
       "      <td>https://pbs.twimg.com/media/CT4udn0WwAA0aMy.jpg</td>\n",
       "      <td>1</td>\n",
       "      <td>Welsh_springer_spaniel</td>\n",
       "      <td>0.465074</td>\n",
       "      <td>True</td>\n",
       "      <td>collie</td>\n",
       "      <td>0.156665</td>\n",
       "      <td>True</td>\n",
       "      <td>Shetland_sheepdog</td>\n",
       "      <td>0.061428</td>\n",
       "      <td>True</td>\n",
       "    </tr>\n",
       "    <tr>\n",
       "      <th>1</th>\n",
       "      <td>666029285002620928</td>\n",
       "      <td>https://pbs.twimg.com/media/CT42GRgUYAA5iDo.jpg</td>\n",
       "      <td>1</td>\n",
       "      <td>redbone</td>\n",
       "      <td>0.506826</td>\n",
       "      <td>True</td>\n",
       "      <td>miniature_pinscher</td>\n",
       "      <td>0.074192</td>\n",
       "      <td>True</td>\n",
       "      <td>Rhodesian_ridgeback</td>\n",
       "      <td>0.072010</td>\n",
       "      <td>True</td>\n",
       "    </tr>\n",
       "    <tr>\n",
       "      <th>2</th>\n",
       "      <td>666033412701032449</td>\n",
       "      <td>https://pbs.twimg.com/media/CT4521TWwAEvMyu.jpg</td>\n",
       "      <td>1</td>\n",
       "      <td>German_shepherd</td>\n",
       "      <td>0.596461</td>\n",
       "      <td>True</td>\n",
       "      <td>malinois</td>\n",
       "      <td>0.138584</td>\n",
       "      <td>True</td>\n",
       "      <td>bloodhound</td>\n",
       "      <td>0.116197</td>\n",
       "      <td>True</td>\n",
       "    </tr>\n",
       "    <tr>\n",
       "      <th>3</th>\n",
       "      <td>666044226329800704</td>\n",
       "      <td>https://pbs.twimg.com/media/CT5Dr8HUEAA-lEu.jpg</td>\n",
       "      <td>1</td>\n",
       "      <td>Rhodesian_ridgeback</td>\n",
       "      <td>0.408143</td>\n",
       "      <td>True</td>\n",
       "      <td>redbone</td>\n",
       "      <td>0.360687</td>\n",
       "      <td>True</td>\n",
       "      <td>miniature_pinscher</td>\n",
       "      <td>0.222752</td>\n",
       "      <td>True</td>\n",
       "    </tr>\n",
       "    <tr>\n",
       "      <th>4</th>\n",
       "      <td>666049248165822465</td>\n",
       "      <td>https://pbs.twimg.com/media/CT5IQmsXIAAKY4A.jpg</td>\n",
       "      <td>1</td>\n",
       "      <td>miniature_pinscher</td>\n",
       "      <td>0.560311</td>\n",
       "      <td>True</td>\n",
       "      <td>Rottweiler</td>\n",
       "      <td>0.243682</td>\n",
       "      <td>True</td>\n",
       "      <td>Doberman</td>\n",
       "      <td>0.154629</td>\n",
       "      <td>True</td>\n",
       "    </tr>\n",
       "  </tbody>\n",
       "</table>\n",
       "</div>"
      ],
      "text/plain": [
       "             tweet_id                                          jpg_url  \\\n",
       "0  666020888022790149  https://pbs.twimg.com/media/CT4udn0WwAA0aMy.jpg   \n",
       "1  666029285002620928  https://pbs.twimg.com/media/CT42GRgUYAA5iDo.jpg   \n",
       "2  666033412701032449  https://pbs.twimg.com/media/CT4521TWwAEvMyu.jpg   \n",
       "3  666044226329800704  https://pbs.twimg.com/media/CT5Dr8HUEAA-lEu.jpg   \n",
       "4  666049248165822465  https://pbs.twimg.com/media/CT5IQmsXIAAKY4A.jpg   \n",
       "\n",
       "   img_num                      p1   p1_conf  p1_dog                  p2  \\\n",
       "0        1  Welsh_springer_spaniel  0.465074    True              collie   \n",
       "1        1                 redbone  0.506826    True  miniature_pinscher   \n",
       "2        1         German_shepherd  0.596461    True            malinois   \n",
       "3        1     Rhodesian_ridgeback  0.408143    True             redbone   \n",
       "4        1      miniature_pinscher  0.560311    True          Rottweiler   \n",
       "\n",
       "    p2_conf  p2_dog                   p3   p3_conf  p3_dog  \n",
       "0  0.156665    True    Shetland_sheepdog  0.061428    True  \n",
       "1  0.074192    True  Rhodesian_ridgeback  0.072010    True  \n",
       "2  0.138584    True           bloodhound  0.116197    True  \n",
       "3  0.360687    True   miniature_pinscher  0.222752    True  \n",
       "4  0.243682    True             Doberman  0.154629    True  "
      ]
     },
     "execution_count": 7,
     "metadata": {},
     "output_type": "execute_result"
    }
   ],
   "source": [
    "image_predictions_df.head()"
   ]
  },
  {
   "cell_type": "code",
   "execution_count": 8,
   "metadata": {},
   "outputs": [
    {
     "name": "stdout",
     "output_type": "stream",
     "text": [
      "<class 'pandas.core.frame.DataFrame'>\n",
      "RangeIndex: 2356 entries, 0 to 2355\n",
      "Data columns (total 17 columns):\n",
      "tweet_id                      2356 non-null int64\n",
      "in_reply_to_status_id         78 non-null float64\n",
      "in_reply_to_user_id           78 non-null float64\n",
      "timestamp                     2356 non-null object\n",
      "source                        2356 non-null object\n",
      "text                          2356 non-null object\n",
      "retweeted_status_id           181 non-null float64\n",
      "retweeted_status_user_id      181 non-null float64\n",
      "retweeted_status_timestamp    181 non-null object\n",
      "expanded_urls                 2297 non-null object\n",
      "rating_numerator              2356 non-null int64\n",
      "rating_denominator            2356 non-null int64\n",
      "name                          2356 non-null object\n",
      "doggo                         2356 non-null object\n",
      "floofer                       2356 non-null object\n",
      "pupper                        2356 non-null object\n",
      "puppo                         2356 non-null object\n",
      "dtypes: float64(4), int64(3), object(10)\n",
      "memory usage: 313.0+ KB\n"
     ]
    }
   ],
   "source": [
    "twitter_arch_enhanc_df.info()"
   ]
  },
  {
   "cell_type": "code",
   "execution_count": 9,
   "metadata": {},
   "outputs": [
    {
     "name": "stdout",
     "output_type": "stream",
     "text": [
      "<class 'pandas.core.frame.DataFrame'>\n",
      "RangeIndex: 2356 entries, 0 to 2355\n",
      "Data columns (total 3 columns):\n",
      "tweet_id          2356 non-null int64\n",
      "retweet_count     2329 non-null float64\n",
      "favorite_count    2329 non-null float64\n",
      "dtypes: float64(2), int64(1)\n",
      "memory usage: 55.3 KB\n"
     ]
    }
   ],
   "source": [
    "addiontal_info_df.info()"
   ]
  },
  {
   "cell_type": "code",
   "execution_count": 10,
   "metadata": {},
   "outputs": [
    {
     "name": "stdout",
     "output_type": "stream",
     "text": [
      "<class 'pandas.core.frame.DataFrame'>\n",
      "RangeIndex: 2075 entries, 0 to 2074\n",
      "Data columns (total 12 columns):\n",
      "tweet_id    2075 non-null int64\n",
      "jpg_url     2075 non-null object\n",
      "img_num     2075 non-null int64\n",
      "p1          2075 non-null object\n",
      "p1_conf     2075 non-null float64\n",
      "p1_dog      2075 non-null bool\n",
      "p2          2075 non-null object\n",
      "p2_conf     2075 non-null float64\n",
      "p2_dog      2075 non-null bool\n",
      "p3          2075 non-null object\n",
      "p3_conf     2075 non-null float64\n",
      "p3_dog      2075 non-null bool\n",
      "dtypes: bool(3), float64(3), int64(2), object(4)\n",
      "memory usage: 152.1+ KB\n"
     ]
    }
   ],
   "source": [
    "image_predictions_df.info()"
   ]
  },
  {
   "cell_type": "code",
   "execution_count": 11,
   "metadata": {},
   "outputs": [
    {
     "name": "stdout",
     "output_type": "stream",
     "text": [
      "12      558\n",
      "11      464\n",
      "10      461\n",
      "13      351\n",
      "9       158\n",
      "8       102\n",
      "7        55\n",
      "14       54\n",
      "5        37\n",
      "6        32\n",
      "3        19\n",
      "4        17\n",
      "1         9\n",
      "2         9\n",
      "420       2\n",
      "0         2\n",
      "15        2\n",
      "75        2\n",
      "80        1\n",
      "20        1\n",
      "24        1\n",
      "26        1\n",
      "44        1\n",
      "50        1\n",
      "60        1\n",
      "165       1\n",
      "84        1\n",
      "88        1\n",
      "144       1\n",
      "182       1\n",
      "143       1\n",
      "666       1\n",
      "960       1\n",
      "1776      1\n",
      "17        1\n",
      "27        1\n",
      "45        1\n",
      "99        1\n",
      "121       1\n",
      "204       1\n",
      "Name: rating_numerator, dtype: int64\n",
      "10     2333\n",
      "11        3\n",
      "50        3\n",
      "80        2\n",
      "20        2\n",
      "2         1\n",
      "16        1\n",
      "40        1\n",
      "70        1\n",
      "15        1\n",
      "90        1\n",
      "110       1\n",
      "120       1\n",
      "130       1\n",
      "150       1\n",
      "170       1\n",
      "7         1\n",
      "0         1\n",
      "Name: rating_denominator, dtype: int64\n"
     ]
    }
   ],
   "source": [
    "#donminatr different than 10 , nomintor values very haigh 1776 or very low 0\n",
    "print(twitter_arch_enhanc_df.rating_numerator.value_counts())\n",
    "print(twitter_arch_enhanc_df.rating_denominator.value_counts())"
   ]
  },
  {
   "cell_type": "code",
   "execution_count": 12,
   "metadata": {},
   "outputs": [
    {
     "name": "stdout",
     "output_type": "stream",
     "text": [
      "text                          This is an Albanian 3 1/2 legged  Episcopalian...\n",
      "retweeted_status_id                                                         NaN\n",
      "retweeted_status_user_id                                                    NaN\n",
      "retweeted_status_timestamp                                                  NaN\n",
      "expanded_urls                 https://twitter.com/dog_rates/status/666287406...\n",
      "rating_numerator                                                              1\n",
      "rating_denominator                                                            2\n",
      "Name: 2335, dtype: object\n",
      "text                          Happy 4/20 from the squad! 13/10 for all https...\n",
      "retweeted_status_id                                                         NaN\n",
      "retweeted_status_user_id                                                    NaN\n",
      "retweeted_status_timestamp                                                  NaN\n",
      "expanded_urls                 https://twitter.com/dog_rates/status/722974582...\n",
      "rating_numerator                                                              4\n",
      "rating_denominator                                                           20\n",
      "Name: 1165, dtype: object\n",
      "text                          Meet Sam. She smiles 24/7 &amp; secretly aspir...\n",
      "retweeted_status_id                                                         NaN\n",
      "retweeted_status_user_id                                                    NaN\n",
      "retweeted_status_timestamp                                                  NaN\n",
      "expanded_urls                 https://www.gofundme.com/sams-smile,https://tw...\n",
      "rating_numerator                                                             24\n",
      "rating_denominator                                                            7\n",
      "Name: 516, dtype: object\n"
     ]
    }
   ],
   "source": [
    "#extracting wrong values in 'rating_numerator'and 'rating_denominator' columns in rows 2335, 1165, and 516\n",
    "print(twitter_arch_enhanc_df.loc[2335]['text':'rating_denominator'])\n",
    "print(twitter_arch_enhanc_df.iloc[1165]['text':'rating_denominator'])\n",
    "print(twitter_arch_enhanc_df.iloc[516]['text':'rating_denominator'])"
   ]
  },
  {
   "cell_type": "code",
   "execution_count": 13,
   "metadata": {},
   "outputs": [
    {
     "name": "stdout",
     "output_type": "stream",
     "text": [
      "This is Bella. She hopes her smile made you smile. If not, she is also offering you her favorite monkey. 13.5/10 https://t.co/qjrljjt948\n",
      "5\n",
      "\n",
      "\n",
      "At first I thought this was a shy doggo, but it's actually a Rare Canadian Floofer Owl. Amateurs would confuse the two. 11/10 only send dogs https://t.co/TXdT3tmuYk\n",
      "doggo        doggo\n",
      "floofer    floofer\n",
      "pupper        None\n",
      "puppo         None\n",
      "Name: 200, dtype: object\n",
      "\n",
      "\n",
      "Here's a puppo participating in the #ScienceMarch. Cleverly disguising her own doggo agenda. 13/10 would keep the planet habitable for https://t.co/cMhq16isel\n",
      "doggo      doggo\n",
      "floofer     None\n",
      "pupper      None\n",
      "puppo      puppo\n",
      "Name: 191, dtype: object\n",
      "\n",
      "\n",
      "@dhmontgomery We also gave snoop dogg a 420/10 but I think that predated your research\n",
      "nan\n",
      "\n",
      "\n",
      "This is Atticus. He's quite simply America af. 1776/10 https://t.co/GRXwMxLBkh\n",
      "https://twitter.com/dog_rates/status/749981277374128128/photo/1\n",
      "\n",
      "\n",
      "Meet Sam. She smiles 24/7 &amp; secretly aspires to be a reindeer. \n",
      "Keep Sam smiling by clicking and sharing this link:\n",
      "https://t.co/98tB8y7y7t https://t.co/LouL5vdvxx\n",
      "24/7\n"
     ]
    }
   ],
   "source": [
    "#extracting 'rating_numerator' without the friction part\n",
    "print(twitter_arch_enhanc_df.iloc[45]['text'])\n",
    "print(twitter_arch_enhanc_df.iloc[45]['rating_numerator'])\n",
    "\n",
    "print('\\n')\n",
    "\n",
    "#in row 200, wrong classified dog  doggo anf floofer instead of a floofer.\n",
    "print(twitter_arch_enhanc_df.iloc[200]['text'])\n",
    "print(twitter_arch_enhanc_df.iloc[200]['doggo':'puppo'])\n",
    "\n",
    "print('\\n')\n",
    "\n",
    "#row 191, wrong classified dog a doggo instead of a puppo.\n",
    "print(twitter_arch_enhanc_df.iloc[191]['text'])\n",
    "print(twitter_arch_enhanc_df.iloc[191]['doggo':'puppo'])\n",
    "\n",
    "print('\\n')\n",
    "\n",
    "# contain the signer (snop dogg).\n",
    "print(twitter_arch_enhanc_df.iloc[188]['text'])\n",
    "print(twitter_arch_enhanc_df.iloc[188]['expanded_urls'])\n",
    "\n",
    "print('\\n')\n",
    "\n",
    "#outlier\n",
    "print(twitter_arch_enhanc_df.iloc[979]['text'])\n",
    "print(twitter_arch_enhanc_df.iloc[979]['expanded_urls'])\n",
    "\n",
    "print('\\n')\n",
    "\n",
    "#is not about rating a dog, it's about donating \n",
    "print(twitter_arch_enhanc_df.iloc[516 ]['text'])\n",
    "print(str(twitter_arch_enhanc_df.iloc[516 ]['rating_numerator']) + \"/\" +str(twitter_arch_enhanc_df.iloc[516 ]['rating_denominator']))\n",
    "\n"
   ]
  },
  {
   "cell_type": "code",
   "execution_count": 14,
   "metadata": {},
   "outputs": [],
   "source": [
    "#see if stages are mutually exclusive or not\n",
    "df1 = twitter_arch_enhanc_df.query('doggo != \"None\" and floofer != \"None\"  ' )\n",
    "df2 = twitter_arch_enhanc_df.query('doggo != \"None\" and pupper != \"None\"  ' )\n",
    "df3 = twitter_arch_enhanc_df.query('doggo != \"None\" and puppo != \"None\"  ' )\n",
    "df4 = twitter_arch_enhanc_df.query('floofer != \"None\" and pupper != \"None\"  ' )\n",
    "df5 = twitter_arch_enhanc_df.query('floofer!= \"None\" and puppo != \"None\"  ' )\n",
    "df6 = twitter_arch_enhanc_df.query('pupper!= \"None\" and puppo != \"None\"  ' )"
   ]
  },
  {
   "cell_type": "markdown",
   "metadata": {},
   "source": [
    "### Quality\n",
    "\n",
    "- 'twitter_arch_enhanc_df' : having denominator values diffierent than 10  in 'rating_denominator' column.\n",
    "\n",
    "- 'twitter_arch_enhanc_df' : extracting wrong values  in 'rating_numerator'and 'rating_denominator' columns in rows  2335, 1165, and 516\n",
    "\n",
    "- 'twitter_arch_enhanc_df' : extracting 'rating_numerator' without the friction part\n",
    "\n",
    "- 'twitter_arch_enhanc_df' : values exist in columns related to retweets and replays\n",
    "\n",
    "- 'twitter_arch_enhanc_df' : \"None\" instead NaN in (name, doggo, floofer, pupper, puppo).\n",
    "\n",
    "- 'twitter_arch_enhanc_df' : wrong values in 'name' column and 'None' value instead of NaN\n",
    "\n",
    "- 'twitter_arch_enhanc_df' : wrong data type in 'timestamp' and 'retweeted_status_timestamp' columns.\t\n",
    "\n",
    "- 'twitter_arch_enhanc_df' : 'source' column's data inside HTML 'a' element.\n",
    "\n",
    "- 'twitter_arch_enhanc_df' : 'tweet_id' column wrong data type int instead of string.\n",
    "\n",
    "- 'twitter_arch_enhanc_df' : in row 200, wrong classified dog a doggo instead of a floofer.\n",
    "\n",
    "- 'twitter_arch_enhanc_df' : in row 191, wrong classified dog a doggo instead of a puppo.\t \n",
    "\n",
    "- 'twitter_arch_enhanc_df':  in row 188  contain the signer (snop dogg).\n",
    "\n",
    "- 'twitter_arch_enhanc_df':  the row 516 is not about rating a dog, it's about donating \n",
    "\n",
    "- 'twitter_arch_enhanc_df':  the row 979 is outlier\n",
    "\n",
    "- 'image_predictions_df' : 'p1,p2,p3' columns wrong data type objec instead of category \n",
    "\n",
    "- 'image_predictions_df' : 'tweet_id' column wrong data type int instead of string\n",
    "- 'addiontal_info_df' : Nan values in retweet_count and favorite_count\n",
    "\n",
    "- 'addiontal_info_df' : wrong data types in retweet_count and favorite_count column float instead of int\n",
    "\n",
    "- 'addiontal_info_df' : wrong data type in tweet_id int instead string \n",
    "\n",
    "### Tidness\n",
    "- 'twitter_arch_enhanc_df' : 1 variable in 4 coulmn (doggo, floofer, pupper, puppo) .\n",
    "- 'image_predictions_df' : p1,2,3, p_conf1,2,3 , p_dog1,2,3,  instead of just p, p_cong, p_fog .\n",
    "- 'addiontal_info_df' : not perfoming integrity \n"
   ]
  },
  {
   "cell_type": "markdown",
   "metadata": {},
   "source": [
    "# Cleaning \n",
    "\n",
    "### define \n",
    "- merging twitter_arch_enhanc_df, addiontal_info_df\n",
    "- making copies to be cleaned"
   ]
  },
  {
   "cell_type": "markdown",
   "metadata": {},
   "source": [
    "### code"
   ]
  },
  {
   "cell_type": "code",
   "execution_count": 15,
   "metadata": {},
   "outputs": [],
   "source": [
    "twitter_all_data_df=pd.merge(twitter_arch_enhanc_df,addiontal_info_df,how='inner',left_on='tweet_id',right_on='tweet_id')\n",
    "twitter_all_data_df_copy= twitter_all_data_df.copy()\n",
    "image_predictions_df_copy = image_predictions_df.copy()"
   ]
  },
  {
   "cell_type": "markdown",
   "metadata": {},
   "source": [
    "### test"
   ]
  },
  {
   "cell_type": "code",
   "execution_count": 16,
   "metadata": {
    "scrolled": true
   },
   "outputs": [
    {
     "data": {
      "text/html": [
       "<div>\n",
       "<style scoped>\n",
       "    .dataframe tbody tr th:only-of-type {\n",
       "        vertical-align: middle;\n",
       "    }\n",
       "\n",
       "    .dataframe tbody tr th {\n",
       "        vertical-align: top;\n",
       "    }\n",
       "\n",
       "    .dataframe thead th {\n",
       "        text-align: right;\n",
       "    }\n",
       "</style>\n",
       "<table border=\"1\" class=\"dataframe\">\n",
       "  <thead>\n",
       "    <tr style=\"text-align: right;\">\n",
       "      <th></th>\n",
       "      <th>tweet_id</th>\n",
       "      <th>in_reply_to_status_id</th>\n",
       "      <th>in_reply_to_user_id</th>\n",
       "      <th>timestamp</th>\n",
       "      <th>source</th>\n",
       "      <th>text</th>\n",
       "      <th>retweeted_status_id</th>\n",
       "      <th>retweeted_status_user_id</th>\n",
       "      <th>retweeted_status_timestamp</th>\n",
       "      <th>expanded_urls</th>\n",
       "      <th>rating_numerator</th>\n",
       "      <th>rating_denominator</th>\n",
       "      <th>name</th>\n",
       "      <th>doggo</th>\n",
       "      <th>floofer</th>\n",
       "      <th>pupper</th>\n",
       "      <th>puppo</th>\n",
       "      <th>retweet_count</th>\n",
       "      <th>favorite_count</th>\n",
       "    </tr>\n",
       "  </thead>\n",
       "  <tbody>\n",
       "    <tr>\n",
       "      <th>0</th>\n",
       "      <td>892420643555336193</td>\n",
       "      <td>NaN</td>\n",
       "      <td>NaN</td>\n",
       "      <td>2017-08-01 16:23:56 +0000</td>\n",
       "      <td>&lt;a href=\"http://twitter.com/download/iphone\" r...</td>\n",
       "      <td>This is Phineas. He's a mystical boy. Only eve...</td>\n",
       "      <td>NaN</td>\n",
       "      <td>NaN</td>\n",
       "      <td>NaN</td>\n",
       "      <td>https://twitter.com/dog_rates/status/892420643...</td>\n",
       "      <td>13</td>\n",
       "      <td>10</td>\n",
       "      <td>Phineas</td>\n",
       "      <td>None</td>\n",
       "      <td>None</td>\n",
       "      <td>None</td>\n",
       "      <td>None</td>\n",
       "      <td>7549.0</td>\n",
       "      <td>35712.0</td>\n",
       "    </tr>\n",
       "    <tr>\n",
       "      <th>1</th>\n",
       "      <td>892177421306343426</td>\n",
       "      <td>NaN</td>\n",
       "      <td>NaN</td>\n",
       "      <td>2017-08-01 00:17:27 +0000</td>\n",
       "      <td>&lt;a href=\"http://twitter.com/download/iphone\" r...</td>\n",
       "      <td>This is Tilly. She's just checking pup on you....</td>\n",
       "      <td>NaN</td>\n",
       "      <td>NaN</td>\n",
       "      <td>NaN</td>\n",
       "      <td>https://twitter.com/dog_rates/status/892177421...</td>\n",
       "      <td>13</td>\n",
       "      <td>10</td>\n",
       "      <td>Tilly</td>\n",
       "      <td>None</td>\n",
       "      <td>None</td>\n",
       "      <td>None</td>\n",
       "      <td>None</td>\n",
       "      <td>5594.0</td>\n",
       "      <td>30872.0</td>\n",
       "    </tr>\n",
       "    <tr>\n",
       "      <th>2</th>\n",
       "      <td>891815181378084864</td>\n",
       "      <td>NaN</td>\n",
       "      <td>NaN</td>\n",
       "      <td>2017-07-31 00:18:03 +0000</td>\n",
       "      <td>&lt;a href=\"http://twitter.com/download/iphone\" r...</td>\n",
       "      <td>This is Archie. He is a rare Norwegian Pouncin...</td>\n",
       "      <td>NaN</td>\n",
       "      <td>NaN</td>\n",
       "      <td>NaN</td>\n",
       "      <td>https://twitter.com/dog_rates/status/891815181...</td>\n",
       "      <td>12</td>\n",
       "      <td>10</td>\n",
       "      <td>Archie</td>\n",
       "      <td>None</td>\n",
       "      <td>None</td>\n",
       "      <td>None</td>\n",
       "      <td>None</td>\n",
       "      <td>3705.0</td>\n",
       "      <td>23207.0</td>\n",
       "    </tr>\n",
       "    <tr>\n",
       "      <th>3</th>\n",
       "      <td>891689557279858688</td>\n",
       "      <td>NaN</td>\n",
       "      <td>NaN</td>\n",
       "      <td>2017-07-30 15:58:51 +0000</td>\n",
       "      <td>&lt;a href=\"http://twitter.com/download/iphone\" r...</td>\n",
       "      <td>This is Darla. She commenced a snooze mid meal...</td>\n",
       "      <td>NaN</td>\n",
       "      <td>NaN</td>\n",
       "      <td>NaN</td>\n",
       "      <td>https://twitter.com/dog_rates/status/891689557...</td>\n",
       "      <td>13</td>\n",
       "      <td>10</td>\n",
       "      <td>Darla</td>\n",
       "      <td>None</td>\n",
       "      <td>None</td>\n",
       "      <td>None</td>\n",
       "      <td>None</td>\n",
       "      <td>7730.0</td>\n",
       "      <td>39002.0</td>\n",
       "    </tr>\n",
       "    <tr>\n",
       "      <th>4</th>\n",
       "      <td>891327558926688256</td>\n",
       "      <td>NaN</td>\n",
       "      <td>NaN</td>\n",
       "      <td>2017-07-29 16:00:24 +0000</td>\n",
       "      <td>&lt;a href=\"http://twitter.com/download/iphone\" r...</td>\n",
       "      <td>This is Franklin. He would like you to stop ca...</td>\n",
       "      <td>NaN</td>\n",
       "      <td>NaN</td>\n",
       "      <td>NaN</td>\n",
       "      <td>https://twitter.com/dog_rates/status/891327558...</td>\n",
       "      <td>12</td>\n",
       "      <td>10</td>\n",
       "      <td>Franklin</td>\n",
       "      <td>None</td>\n",
       "      <td>None</td>\n",
       "      <td>None</td>\n",
       "      <td>None</td>\n",
       "      <td>8332.0</td>\n",
       "      <td>37260.0</td>\n",
       "    </tr>\n",
       "  </tbody>\n",
       "</table>\n",
       "</div>"
      ],
      "text/plain": [
       "             tweet_id  in_reply_to_status_id  in_reply_to_user_id  \\\n",
       "0  892420643555336193                    NaN                  NaN   \n",
       "1  892177421306343426                    NaN                  NaN   \n",
       "2  891815181378084864                    NaN                  NaN   \n",
       "3  891689557279858688                    NaN                  NaN   \n",
       "4  891327558926688256                    NaN                  NaN   \n",
       "\n",
       "                   timestamp  \\\n",
       "0  2017-08-01 16:23:56 +0000   \n",
       "1  2017-08-01 00:17:27 +0000   \n",
       "2  2017-07-31 00:18:03 +0000   \n",
       "3  2017-07-30 15:58:51 +0000   \n",
       "4  2017-07-29 16:00:24 +0000   \n",
       "\n",
       "                                              source  \\\n",
       "0  <a href=\"http://twitter.com/download/iphone\" r...   \n",
       "1  <a href=\"http://twitter.com/download/iphone\" r...   \n",
       "2  <a href=\"http://twitter.com/download/iphone\" r...   \n",
       "3  <a href=\"http://twitter.com/download/iphone\" r...   \n",
       "4  <a href=\"http://twitter.com/download/iphone\" r...   \n",
       "\n",
       "                                                text  retweeted_status_id  \\\n",
       "0  This is Phineas. He's a mystical boy. Only eve...                  NaN   \n",
       "1  This is Tilly. She's just checking pup on you....                  NaN   \n",
       "2  This is Archie. He is a rare Norwegian Pouncin...                  NaN   \n",
       "3  This is Darla. She commenced a snooze mid meal...                  NaN   \n",
       "4  This is Franklin. He would like you to stop ca...                  NaN   \n",
       "\n",
       "   retweeted_status_user_id retweeted_status_timestamp  \\\n",
       "0                       NaN                        NaN   \n",
       "1                       NaN                        NaN   \n",
       "2                       NaN                        NaN   \n",
       "3                       NaN                        NaN   \n",
       "4                       NaN                        NaN   \n",
       "\n",
       "                                       expanded_urls  rating_numerator  \\\n",
       "0  https://twitter.com/dog_rates/status/892420643...                13   \n",
       "1  https://twitter.com/dog_rates/status/892177421...                13   \n",
       "2  https://twitter.com/dog_rates/status/891815181...                12   \n",
       "3  https://twitter.com/dog_rates/status/891689557...                13   \n",
       "4  https://twitter.com/dog_rates/status/891327558...                12   \n",
       "\n",
       "   rating_denominator      name doggo floofer pupper puppo  retweet_count  \\\n",
       "0                  10   Phineas  None    None   None  None         7549.0   \n",
       "1                  10     Tilly  None    None   None  None         5594.0   \n",
       "2                  10    Archie  None    None   None  None         3705.0   \n",
       "3                  10     Darla  None    None   None  None         7730.0   \n",
       "4                  10  Franklin  None    None   None  None         8332.0   \n",
       "\n",
       "   favorite_count  \n",
       "0         35712.0  \n",
       "1         30872.0  \n",
       "2         23207.0  \n",
       "3         39002.0  \n",
       "4         37260.0  "
      ]
     },
     "execution_count": 16,
     "metadata": {},
     "output_type": "execute_result"
    }
   ],
   "source": [
    "twitter_all_data_df_copy.head()"
   ]
  },
  {
   "cell_type": "markdown",
   "metadata": {},
   "source": [
    "### define\n",
    "- replacing (doggo, floofer, pupper, puppo) columns with just one column called 'stage' \n",
    "- creating stage column with NaN values and assign existing stages \n"
   ]
  },
  {
   "cell_type": "markdown",
   "metadata": {},
   "source": [
    "### code"
   ]
  },
  {
   "cell_type": "code",
   "execution_count": 17,
   "metadata": {},
   "outputs": [
    {
     "name": "stderr",
     "output_type": "stream",
     "text": [
      "/opt/conda/lib/python3.6/site-packages/ipykernel_launcher.py:15: SettingWithCopyWarning: \n",
      "A value is trying to be set on a copy of a slice from a DataFrame\n",
      "\n",
      "See the caveats in the documentation: http://pandas.pydata.org/pandas-docs/stable/indexing.html#indexing-view-versus-copy\n",
      "  from ipykernel import kernelapp as app\n",
      "/opt/conda/lib/python3.6/site-packages/ipykernel_launcher.py:19: SettingWithCopyWarning: \n",
      "A value is trying to be set on a copy of a slice from a DataFrame\n",
      "\n",
      "See the caveats in the documentation: http://pandas.pydata.org/pandas-docs/stable/indexing.html#indexing-view-versus-copy\n",
      "/opt/conda/lib/python3.6/site-packages/ipykernel_launcher.py:23: SettingWithCopyWarning: \n",
      "A value is trying to be set on a copy of a slice from a DataFrame\n",
      "\n",
      "See the caveats in the documentation: http://pandas.pydata.org/pandas-docs/stable/indexing.html#indexing-view-versus-copy\n"
     ]
    }
   ],
   "source": [
    "#repalcing 'None' values in ('doggo','puppo','pupper','floofer') columns to empty string ''\n",
    "twitter_all_data_df_copy.loc[:,'doggo':'puppo']=twitter_all_data_df_copy.loc[:,'doggo':'puppo'].replace('None',\"\")\n",
    "\n",
    "# adding ('doggo','puppo','pupper','floofer') values in new column called 'stage'\n",
    "twitter_all_data_df_copy['stage']=twitter_all_data_df_copy['doggo'] + twitter_all_data_df_copy['pupper'] + twitter_all_data_df_copy['puppo'] + twitter_all_data_df_copy['floofer']\n",
    "\n",
    "#replace empty strings in 'stage' column to NaN\n",
    "twitter_all_data_df_copy['stage'] = twitter_all_data_df_copy['stage'].replace(\"\",np.nan)\n",
    "\n",
    "#drop ('doggo','puppo','pupper','floofer') columns\n",
    "twitter_all_data_df_copy.drop(['doggo','puppo','pupper','floofer'],axis=1,inplace=True)\n",
    "\n",
    "#getting index of 'doggopuppo' value in stage column and change to floofer because it as wrong extracted\n",
    "temp=twitter_all_data_df_copy[twitter_all_data_df_copy.stage == 'doggopuppo'].index\n",
    "twitter_all_data_df_copy['stage'][temp] = 'floofer' \n",
    "\n",
    "#getting index of 'doggofloofer' value in stage column and change to puppo because it as wrong extracted\n",
    "temp=twitter_all_data_df_copy[twitter_all_data_df_copy.stage == 'doggofloofer'].index\n",
    "twitter_all_data_df_copy['stage'][temp] = 'puppo' \n",
    "\n",
    "# correct values in 'stage' column that has two values to separate between them by commas\n",
    "temp = twitter_all_data_df_copy['stage'][twitter_all_data_df_copy.stage == 'doggopupper'].index\n",
    "twitter_all_data_df_copy['stage'][temp]= twitter_all_data_df_copy['stage'][temp].replace('doggopupper','doggo,pupper')"
   ]
  },
  {
   "cell_type": "markdown",
   "metadata": {},
   "source": [
    "### define \n",
    "- changing stage column data type to categoraical \n",
    "- changing timestamp column data type to time \n",
    "- changing retweet_count column data type to int\n",
    "- changing favorite_count column data type to int \n",
    "- changing tweet_id column data type to string\n",
    "- changing source column data type to categoraical \n"
   ]
  },
  {
   "cell_type": "markdown",
   "metadata": {},
   "source": [
    "### code"
   ]
  },
  {
   "cell_type": "code",
   "execution_count": 18,
   "metadata": {},
   "outputs": [],
   "source": [
    "twitter_all_data_df_copy['stage'] = twitter_all_data_df_copy['stage'].astype('category')\n",
    "twitter_all_data_df_copy['timestamp'] = pd.to_datetime(twitter_all_data_df_copy['timestamp']) \n",
    "twitter_all_data_df_copy['retweet_count'] = pd.to_numeric(twitter_all_data_df_copy['retweet_count'],downcast='integer')\n",
    "twitter_all_data_df_copy['favorite_count'] = pd.to_numeric(twitter_all_data_df_copy['favorite_count'],downcast='integer')\n",
    "twitter_all_data_df_copy['tweet_id'] = twitter_all_data_df_copy['tweet_id'].astype(str)\n",
    "twitter_all_data_df_copy['source'] = twitter_all_data_df_copy['source'].astype('category')"
   ]
  },
  {
   "cell_type": "markdown",
   "metadata": {},
   "source": [
    "### test"
   ]
  },
  {
   "cell_type": "code",
   "execution_count": 19,
   "metadata": {
    "scrolled": true
   },
   "outputs": [
    {
     "name": "stdout",
     "output_type": "stream",
     "text": [
      "<class 'pandas.core.frame.DataFrame'>\n",
      "Int64Index: 2356 entries, 0 to 2355\n",
      "Data columns (total 16 columns):\n",
      "tweet_id                      2356 non-null object\n",
      "in_reply_to_status_id         78 non-null float64\n",
      "in_reply_to_user_id           78 non-null float64\n",
      "timestamp                     2356 non-null datetime64[ns]\n",
      "source                        2356 non-null category\n",
      "text                          2356 non-null object\n",
      "retweeted_status_id           181 non-null float64\n",
      "retweeted_status_user_id      181 non-null float64\n",
      "retweeted_status_timestamp    181 non-null object\n",
      "expanded_urls                 2297 non-null object\n",
      "rating_numerator              2356 non-null int64\n",
      "rating_denominator            2356 non-null int64\n",
      "name                          2356 non-null object\n",
      "retweet_count                 2329 non-null float64\n",
      "favorite_count                2329 non-null float64\n",
      "stage                         380 non-null category\n",
      "dtypes: category(2), datetime64[ns](1), float64(6), int64(2), object(5)\n",
      "memory usage: 361.1+ KB\n"
     ]
    }
   ],
   "source": [
    "twitter_all_data_df_copy.info()"
   ]
  },
  {
   "cell_type": "markdown",
   "metadata": {},
   "source": [
    "### define \n",
    "sloving : detecing replaying, retweets, and tweets without images and dropping them \n",
    "\n",
    "- find values in replaying column and drop it \n",
    "- find values in retweets column and drop it\n",
    "- find values in tweets column that don't havd images and drop it \n",
    "- drop (in_reply_to_status_id', 'in_reply_to_user_id', 'retweeted_status_id', 'retweeted_status_user_id', 'retweeted_status_timestamp') columns"
   ]
  },
  {
   "cell_type": "markdown",
   "metadata": {},
   "source": [
    "### code "
   ]
  },
  {
   "cell_type": "code",
   "execution_count": 20,
   "metadata": {},
   "outputs": [],
   "source": [
    "    checking = twitter_all_data_df_copy.query('in_reply_to_status_id != \"NaN\" and in_reply_to_user_id != \"NaN\" ' ).index \n",
    "twitter_all_data_df_copy.drop(checking,inplace=True)\n",
    "twitter_all_data_df_copy.drop(['in_reply_to_status_id', 'in_reply_to_user_id'],axis=1,inplace=True)\n",
    "\n",
    "checking = twitter_all_data_df_copy.query('retweeted_status_id != \"NaN\" and retweeted_status_user_id != \"NaN\" ' ).index \n",
    "twitter_all_data_df_copy.drop(checking,inplace=True)\n",
    "twitter_all_data_df_copy.drop(['retweeted_status_id', 'retweeted_status_user_id', 'retweeted_status_timestamp'], inplace=True, axis=1)\n",
    "\n",
    "\n",
    "checking =twitter_all_data_df_copy[twitter_all_data_df_copy.expanded_urls.isnull()].index \n",
    "twitter_all_data_df_copy.drop(checking,inplace=True)\n"
   ]
  },
  {
   "cell_type": "markdown",
   "metadata": {},
   "source": [
    "### test"
   ]
  },
  {
   "cell_type": "code",
   "execution_count": 21,
   "metadata": {},
   "outputs": [
    {
     "data": {
      "text/html": [
       "<div>\n",
       "<style scoped>\n",
       "    .dataframe tbody tr th:only-of-type {\n",
       "        vertical-align: middle;\n",
       "    }\n",
       "\n",
       "    .dataframe tbody tr th {\n",
       "        vertical-align: top;\n",
       "    }\n",
       "\n",
       "    .dataframe thead th {\n",
       "        text-align: right;\n",
       "    }\n",
       "</style>\n",
       "<table border=\"1\" class=\"dataframe\">\n",
       "  <thead>\n",
       "    <tr style=\"text-align: right;\">\n",
       "      <th></th>\n",
       "      <th>tweet_id</th>\n",
       "      <th>timestamp</th>\n",
       "      <th>source</th>\n",
       "      <th>text</th>\n",
       "      <th>expanded_urls</th>\n",
       "      <th>rating_numerator</th>\n",
       "      <th>rating_denominator</th>\n",
       "      <th>name</th>\n",
       "      <th>retweet_count</th>\n",
       "      <th>favorite_count</th>\n",
       "      <th>stage</th>\n",
       "    </tr>\n",
       "  </thead>\n",
       "  <tbody>\n",
       "    <tr>\n",
       "      <th>0</th>\n",
       "      <td>892420643555336193</td>\n",
       "      <td>2017-08-01 16:23:56</td>\n",
       "      <td>&lt;a href=\"http://twitter.com/download/iphone\" r...</td>\n",
       "      <td>This is Phineas. He's a mystical boy. Only eve...</td>\n",
       "      <td>https://twitter.com/dog_rates/status/892420643...</td>\n",
       "      <td>13</td>\n",
       "      <td>10</td>\n",
       "      <td>Phineas</td>\n",
       "      <td>7549.0</td>\n",
       "      <td>35712.0</td>\n",
       "      <td>NaN</td>\n",
       "    </tr>\n",
       "    <tr>\n",
       "      <th>1</th>\n",
       "      <td>892177421306343426</td>\n",
       "      <td>2017-08-01 00:17:27</td>\n",
       "      <td>&lt;a href=\"http://twitter.com/download/iphone\" r...</td>\n",
       "      <td>This is Tilly. She's just checking pup on you....</td>\n",
       "      <td>https://twitter.com/dog_rates/status/892177421...</td>\n",
       "      <td>13</td>\n",
       "      <td>10</td>\n",
       "      <td>Tilly</td>\n",
       "      <td>5594.0</td>\n",
       "      <td>30872.0</td>\n",
       "      <td>NaN</td>\n",
       "    </tr>\n",
       "    <tr>\n",
       "      <th>2</th>\n",
       "      <td>891815181378084864</td>\n",
       "      <td>2017-07-31 00:18:03</td>\n",
       "      <td>&lt;a href=\"http://twitter.com/download/iphone\" r...</td>\n",
       "      <td>This is Archie. He is a rare Norwegian Pouncin...</td>\n",
       "      <td>https://twitter.com/dog_rates/status/891815181...</td>\n",
       "      <td>12</td>\n",
       "      <td>10</td>\n",
       "      <td>Archie</td>\n",
       "      <td>3705.0</td>\n",
       "      <td>23207.0</td>\n",
       "      <td>NaN</td>\n",
       "    </tr>\n",
       "    <tr>\n",
       "      <th>3</th>\n",
       "      <td>891689557279858688</td>\n",
       "      <td>2017-07-30 15:58:51</td>\n",
       "      <td>&lt;a href=\"http://twitter.com/download/iphone\" r...</td>\n",
       "      <td>This is Darla. She commenced a snooze mid meal...</td>\n",
       "      <td>https://twitter.com/dog_rates/status/891689557...</td>\n",
       "      <td>13</td>\n",
       "      <td>10</td>\n",
       "      <td>Darla</td>\n",
       "      <td>7730.0</td>\n",
       "      <td>39002.0</td>\n",
       "      <td>NaN</td>\n",
       "    </tr>\n",
       "    <tr>\n",
       "      <th>4</th>\n",
       "      <td>891327558926688256</td>\n",
       "      <td>2017-07-29 16:00:24</td>\n",
       "      <td>&lt;a href=\"http://twitter.com/download/iphone\" r...</td>\n",
       "      <td>This is Franklin. He would like you to stop ca...</td>\n",
       "      <td>https://twitter.com/dog_rates/status/891327558...</td>\n",
       "      <td>12</td>\n",
       "      <td>10</td>\n",
       "      <td>Franklin</td>\n",
       "      <td>8332.0</td>\n",
       "      <td>37260.0</td>\n",
       "      <td>NaN</td>\n",
       "    </tr>\n",
       "  </tbody>\n",
       "</table>\n",
       "</div>"
      ],
      "text/plain": [
       "             tweet_id           timestamp  \\\n",
       "0  892420643555336193 2017-08-01 16:23:56   \n",
       "1  892177421306343426 2017-08-01 00:17:27   \n",
       "2  891815181378084864 2017-07-31 00:18:03   \n",
       "3  891689557279858688 2017-07-30 15:58:51   \n",
       "4  891327558926688256 2017-07-29 16:00:24   \n",
       "\n",
       "                                              source  \\\n",
       "0  <a href=\"http://twitter.com/download/iphone\" r...   \n",
       "1  <a href=\"http://twitter.com/download/iphone\" r...   \n",
       "2  <a href=\"http://twitter.com/download/iphone\" r...   \n",
       "3  <a href=\"http://twitter.com/download/iphone\" r...   \n",
       "4  <a href=\"http://twitter.com/download/iphone\" r...   \n",
       "\n",
       "                                                text  \\\n",
       "0  This is Phineas. He's a mystical boy. Only eve...   \n",
       "1  This is Tilly. She's just checking pup on you....   \n",
       "2  This is Archie. He is a rare Norwegian Pouncin...   \n",
       "3  This is Darla. She commenced a snooze mid meal...   \n",
       "4  This is Franklin. He would like you to stop ca...   \n",
       "\n",
       "                                       expanded_urls  rating_numerator  \\\n",
       "0  https://twitter.com/dog_rates/status/892420643...                13   \n",
       "1  https://twitter.com/dog_rates/status/892177421...                13   \n",
       "2  https://twitter.com/dog_rates/status/891815181...                12   \n",
       "3  https://twitter.com/dog_rates/status/891689557...                13   \n",
       "4  https://twitter.com/dog_rates/status/891327558...                12   \n",
       "\n",
       "   rating_denominator      name  retweet_count  favorite_count stage  \n",
       "0                  10   Phineas         7549.0         35712.0   NaN  \n",
       "1                  10     Tilly         5594.0         30872.0   NaN  \n",
       "2                  10    Archie         3705.0         23207.0   NaN  \n",
       "3                  10     Darla         7730.0         39002.0   NaN  \n",
       "4                  10  Franklin         8332.0         37260.0   NaN  "
      ]
     },
     "execution_count": 21,
     "metadata": {},
     "output_type": "execute_result"
    }
   ],
   "source": [
    "twitter_all_data_df_copy.head()"
   ]
  },
  {
   "cell_type": "markdown",
   "metadata": {},
   "source": [
    "### define\n",
    "- extracting information from HTML tag in 'source' column\n"
   ]
  },
  {
   "cell_type": "markdown",
   "metadata": {},
   "source": [
    "### code"
   ]
  },
  {
   "cell_type": "code",
   "execution_count": 22,
   "metadata": {
    "scrolled": true
   },
   "outputs": [],
   "source": [
    "twitter_all_data_df_copy['source']=twitter_all_data_df_copy['source'].str.extract('>(.*)<')\n",
    "twitter_all_data_df_copy['source'] = twitter_all_data_df_copy['source'].astype('category')"
   ]
  },
  {
   "cell_type": "markdown",
   "metadata": {},
   "source": [
    "### Test"
   ]
  },
  {
   "cell_type": "code",
   "execution_count": 23,
   "metadata": {},
   "outputs": [
    {
     "data": {
      "text/plain": [
       "Twitter for iPhone     1962\n",
       "Vine - Make a Scene      91\n",
       "Twitter Web Client       30\n",
       "TweetDeck                11\n",
       "Name: source, dtype: int64"
      ]
     },
     "execution_count": 23,
     "metadata": {},
     "output_type": "execute_result"
    }
   ],
   "source": [
    "twitter_all_data_df_copy['source'].value_counts()"
   ]
  },
  {
   "cell_type": "markdown",
   "metadata": {},
   "source": [
    "### define \n",
    "- delete row 2074 that has the singer snop dogg\n",
    "- delete row 979 that contain rating \"1766\" becaues it is outlier\n",
    "- delete row 516 because the tweet is not about rating dogs , it's about donating\n",
    "- fix ratings in 2335,1165 rows\n",
    "- extracing the nominator and denominators values including frictions part\n",
    "- inspecting nominator values that less than denominator to see if there was error in extraction the ratings and replace with the right one \n",
    " \n",
    "- normalize all denominator values to be 10 and fix coresponding nominator \n"
   ]
  },
  {
   "cell_type": "markdown",
   "metadata": {},
   "source": [
    "### code"
   ]
  },
  {
   "cell_type": "code",
   "execution_count": 24,
   "metadata": {},
   "outputs": [
    {
     "data": {
      "text/html": [
       "<div>\n",
       "<style scoped>\n",
       "    .dataframe tbody tr th:only-of-type {\n",
       "        vertical-align: middle;\n",
       "    }\n",
       "\n",
       "    .dataframe tbody tr th {\n",
       "        vertical-align: top;\n",
       "    }\n",
       "\n",
       "    .dataframe thead th {\n",
       "        text-align: right;\n",
       "    }\n",
       "</style>\n",
       "<table border=\"1\" class=\"dataframe\">\n",
       "  <thead>\n",
       "    <tr style=\"text-align: right;\">\n",
       "      <th></th>\n",
       "      <th>tweet_id</th>\n",
       "      <th>timestamp</th>\n",
       "      <th>source</th>\n",
       "      <th>text</th>\n",
       "      <th>expanded_urls</th>\n",
       "      <th>rating_numerator</th>\n",
       "      <th>rating_denominator</th>\n",
       "      <th>name</th>\n",
       "      <th>retweet_count</th>\n",
       "      <th>favorite_count</th>\n",
       "      <th>stage</th>\n",
       "    </tr>\n",
       "  </thead>\n",
       "  <tbody>\n",
       "    <tr>\n",
       "      <th>433</th>\n",
       "      <td>820690176645140481</td>\n",
       "      <td>2017-01-15 17:52:40</td>\n",
       "      <td>Twitter for iPhone</td>\n",
       "      <td>The floofs have been released I repeat the flo...</td>\n",
       "      <td>https://twitter.com/dog_rates/status/820690176...</td>\n",
       "      <td>84</td>\n",
       "      <td>70</td>\n",
       "      <td>None</td>\n",
       "      <td>3214.0</td>\n",
       "      <td>12217.0</td>\n",
       "      <td>NaN</td>\n",
       "    </tr>\n",
       "    <tr>\n",
       "      <th>516</th>\n",
       "      <td>810984652412424192</td>\n",
       "      <td>2016-12-19 23:06:23</td>\n",
       "      <td>Twitter for iPhone</td>\n",
       "      <td>Meet Sam. She smiles 24/7 &amp;amp; secretly aspir...</td>\n",
       "      <td>https://www.gofundme.com/sams-smile,https://tw...</td>\n",
       "      <td>24</td>\n",
       "      <td>7</td>\n",
       "      <td>Sam</td>\n",
       "      <td>1447.0</td>\n",
       "      <td>5366.0</td>\n",
       "      <td>NaN</td>\n",
       "    </tr>\n",
       "    <tr>\n",
       "      <th>695</th>\n",
       "      <td>786709082849828864</td>\n",
       "      <td>2016-10-13 23:23:56</td>\n",
       "      <td>Twitter for iPhone</td>\n",
       "      <td>This is Logan, the Chow who lived. He solemnly...</td>\n",
       "      <td>https://twitter.com/dog_rates/status/786709082...</td>\n",
       "      <td>75</td>\n",
       "      <td>10</td>\n",
       "      <td>Logan</td>\n",
       "      <td>6134.0</td>\n",
       "      <td>18307.0</td>\n",
       "      <td>NaN</td>\n",
       "    </tr>\n",
       "    <tr>\n",
       "      <th>763</th>\n",
       "      <td>778027034220126208</td>\n",
       "      <td>2016-09-20 00:24:34</td>\n",
       "      <td>Twitter for iPhone</td>\n",
       "      <td>This is Sophie. She's a Jubilant Bush Pupper. ...</td>\n",
       "      <td>https://twitter.com/dog_rates/status/778027034...</td>\n",
       "      <td>27</td>\n",
       "      <td>10</td>\n",
       "      <td>Sophie</td>\n",
       "      <td>1607.0</td>\n",
       "      <td>6548.0</td>\n",
       "      <td>pupper</td>\n",
       "    </tr>\n",
       "    <tr>\n",
       "      <th>902</th>\n",
       "      <td>758467244762497024</td>\n",
       "      <td>2016-07-28 01:00:57</td>\n",
       "      <td>Twitter for iPhone</td>\n",
       "      <td>Why does this never happen at my front door......</td>\n",
       "      <td>https://twitter.com/dog_rates/status/758467244...</td>\n",
       "      <td>165</td>\n",
       "      <td>150</td>\n",
       "      <td>None</td>\n",
       "      <td>2188.0</td>\n",
       "      <td>4753.0</td>\n",
       "      <td>NaN</td>\n",
       "    </tr>\n",
       "    <tr>\n",
       "      <th>979</th>\n",
       "      <td>749981277374128128</td>\n",
       "      <td>2016-07-04 15:00:45</td>\n",
       "      <td>TweetDeck</td>\n",
       "      <td>This is Atticus. He's quite simply America af....</td>\n",
       "      <td>https://twitter.com/dog_rates/status/749981277...</td>\n",
       "      <td>1776</td>\n",
       "      <td>10</td>\n",
       "      <td>Atticus</td>\n",
       "      <td>2427.0</td>\n",
       "      <td>5070.0</td>\n",
       "      <td>NaN</td>\n",
       "    </tr>\n",
       "    <tr>\n",
       "      <th>1120</th>\n",
       "      <td>731156023742988288</td>\n",
       "      <td>2016-05-13 16:15:54</td>\n",
       "      <td>Twitter for iPhone</td>\n",
       "      <td>Say hello to this unbelievably well behaved sq...</td>\n",
       "      <td>https://twitter.com/dog_rates/status/731156023...</td>\n",
       "      <td>204</td>\n",
       "      <td>170</td>\n",
       "      <td>this</td>\n",
       "      <td>1237.0</td>\n",
       "      <td>3763.0</td>\n",
       "      <td>NaN</td>\n",
       "    </tr>\n",
       "    <tr>\n",
       "      <th>1202</th>\n",
       "      <td>716439118184652801</td>\n",
       "      <td>2016-04-03 01:36:11</td>\n",
       "      <td>Twitter for iPhone</td>\n",
       "      <td>This is Bluebert. He just saw that both #Final...</td>\n",
       "      <td>https://twitter.com/dog_rates/status/716439118...</td>\n",
       "      <td>50</td>\n",
       "      <td>50</td>\n",
       "      <td>Bluebert</td>\n",
       "      <td>204.0</td>\n",
       "      <td>2331.0</td>\n",
       "      <td>NaN</td>\n",
       "    </tr>\n",
       "    <tr>\n",
       "      <th>1228</th>\n",
       "      <td>713900603437621249</td>\n",
       "      <td>2016-03-27 01:29:02</td>\n",
       "      <td>Twitter for iPhone</td>\n",
       "      <td>Happy Saturday here's 9 puppers on a bench. 99...</td>\n",
       "      <td>https://twitter.com/dog_rates/status/713900603...</td>\n",
       "      <td>99</td>\n",
       "      <td>90</td>\n",
       "      <td>None</td>\n",
       "      <td>721.0</td>\n",
       "      <td>2779.0</td>\n",
       "      <td>NaN</td>\n",
       "    </tr>\n",
       "    <tr>\n",
       "      <th>1254</th>\n",
       "      <td>710658690886586372</td>\n",
       "      <td>2016-03-18 02:46:49</td>\n",
       "      <td>Twitter for iPhone</td>\n",
       "      <td>Here's a brigade of puppers. All look very pre...</td>\n",
       "      <td>https://twitter.com/dog_rates/status/710658690...</td>\n",
       "      <td>80</td>\n",
       "      <td>80</td>\n",
       "      <td>None</td>\n",
       "      <td>546.0</td>\n",
       "      <td>2259.0</td>\n",
       "      <td>NaN</td>\n",
       "    </tr>\n",
       "    <tr>\n",
       "      <th>1274</th>\n",
       "      <td>709198395643068416</td>\n",
       "      <td>2016-03-14 02:04:08</td>\n",
       "      <td>Twitter for iPhone</td>\n",
       "      <td>From left to right:\\nCletus, Jerome, Alejandro...</td>\n",
       "      <td>https://twitter.com/dog_rates/status/709198395...</td>\n",
       "      <td>45</td>\n",
       "      <td>50</td>\n",
       "      <td>None</td>\n",
       "      <td>630.0</td>\n",
       "      <td>2396.0</td>\n",
       "      <td>NaN</td>\n",
       "    </tr>\n",
       "    <tr>\n",
       "      <th>1351</th>\n",
       "      <td>704054845121142784</td>\n",
       "      <td>2016-02-28 21:25:30</td>\n",
       "      <td>Twitter for iPhone</td>\n",
       "      <td>Here is a whole flock of puppers.  60/50 I'll ...</td>\n",
       "      <td>https://twitter.com/dog_rates/status/704054845...</td>\n",
       "      <td>60</td>\n",
       "      <td>50</td>\n",
       "      <td>a</td>\n",
       "      <td>897.0</td>\n",
       "      <td>2870.0</td>\n",
       "      <td>NaN</td>\n",
       "    </tr>\n",
       "    <tr>\n",
       "      <th>1433</th>\n",
       "      <td>697463031882764288</td>\n",
       "      <td>2016-02-10 16:51:59</td>\n",
       "      <td>Twitter for iPhone</td>\n",
       "      <td>Happy Wednesday here's a bucket of pups. 44/40...</td>\n",
       "      <td>https://twitter.com/dog_rates/status/697463031...</td>\n",
       "      <td>44</td>\n",
       "      <td>40</td>\n",
       "      <td>None</td>\n",
       "      <td>1373.0</td>\n",
       "      <td>3364.0</td>\n",
       "      <td>NaN</td>\n",
       "    </tr>\n",
       "    <tr>\n",
       "      <th>1635</th>\n",
       "      <td>684222868335505415</td>\n",
       "      <td>2016-01-05 04:00:18</td>\n",
       "      <td>Twitter for iPhone</td>\n",
       "      <td>Someone help the girl is being mugged. Several...</td>\n",
       "      <td>https://twitter.com/dog_rates/status/684222868...</td>\n",
       "      <td>121</td>\n",
       "      <td>110</td>\n",
       "      <td>None</td>\n",
       "      <td>1332.0</td>\n",
       "      <td>3754.0</td>\n",
       "      <td>NaN</td>\n",
       "    </tr>\n",
       "    <tr>\n",
       "      <th>1712</th>\n",
       "      <td>680494726643068929</td>\n",
       "      <td>2015-12-25 21:06:00</td>\n",
       "      <td>Twitter for iPhone</td>\n",
       "      <td>Here we have uncovered an entire battalion of ...</td>\n",
       "      <td>https://twitter.com/dog_rates/status/680494726...</td>\n",
       "      <td>26</td>\n",
       "      <td>10</td>\n",
       "      <td>None</td>\n",
       "      <td>475.0</td>\n",
       "      <td>1682.0</td>\n",
       "      <td>NaN</td>\n",
       "    </tr>\n",
       "    <tr>\n",
       "      <th>1779</th>\n",
       "      <td>677716515794329600</td>\n",
       "      <td>2015-12-18 05:06:23</td>\n",
       "      <td>Twitter for iPhone</td>\n",
       "      <td>IT'S PUPPERGEDDON. Total of 144/120 ...I think...</td>\n",
       "      <td>https://twitter.com/dog_rates/status/677716515...</td>\n",
       "      <td>144</td>\n",
       "      <td>120</td>\n",
       "      <td>None</td>\n",
       "      <td>944.0</td>\n",
       "      <td>2964.0</td>\n",
       "      <td>NaN</td>\n",
       "    </tr>\n",
       "    <tr>\n",
       "      <th>1843</th>\n",
       "      <td>675853064436391936</td>\n",
       "      <td>2015-12-13 01:41:41</td>\n",
       "      <td>Twitter for iPhone</td>\n",
       "      <td>Here we have an entire platoon of puppers. Tot...</td>\n",
       "      <td>https://twitter.com/dog_rates/status/675853064...</td>\n",
       "      <td>88</td>\n",
       "      <td>80</td>\n",
       "      <td>None</td>\n",
       "      <td>1236.0</td>\n",
       "      <td>2589.0</td>\n",
       "      <td>NaN</td>\n",
       "    </tr>\n",
       "    <tr>\n",
       "      <th>2074</th>\n",
       "      <td>670842764863651840</td>\n",
       "      <td>2015-11-29 05:52:33</td>\n",
       "      <td>Twitter for iPhone</td>\n",
       "      <td>After so many requests... here you go.\\n\\nGood...</td>\n",
       "      <td>https://twitter.com/dog_rates/status/670842764...</td>\n",
       "      <td>420</td>\n",
       "      <td>10</td>\n",
       "      <td>None</td>\n",
       "      <td>8148.0</td>\n",
       "      <td>23413.0</td>\n",
       "      <td>NaN</td>\n",
       "    </tr>\n",
       "  </tbody>\n",
       "</table>\n",
       "</div>"
      ],
      "text/plain": [
       "                tweet_id           timestamp              source  \\\n",
       "433   820690176645140481 2017-01-15 17:52:40  Twitter for iPhone   \n",
       "516   810984652412424192 2016-12-19 23:06:23  Twitter for iPhone   \n",
       "695   786709082849828864 2016-10-13 23:23:56  Twitter for iPhone   \n",
       "763   778027034220126208 2016-09-20 00:24:34  Twitter for iPhone   \n",
       "902   758467244762497024 2016-07-28 01:00:57  Twitter for iPhone   \n",
       "979   749981277374128128 2016-07-04 15:00:45           TweetDeck   \n",
       "1120  731156023742988288 2016-05-13 16:15:54  Twitter for iPhone   \n",
       "1202  716439118184652801 2016-04-03 01:36:11  Twitter for iPhone   \n",
       "1228  713900603437621249 2016-03-27 01:29:02  Twitter for iPhone   \n",
       "1254  710658690886586372 2016-03-18 02:46:49  Twitter for iPhone   \n",
       "1274  709198395643068416 2016-03-14 02:04:08  Twitter for iPhone   \n",
       "1351  704054845121142784 2016-02-28 21:25:30  Twitter for iPhone   \n",
       "1433  697463031882764288 2016-02-10 16:51:59  Twitter for iPhone   \n",
       "1635  684222868335505415 2016-01-05 04:00:18  Twitter for iPhone   \n",
       "1712  680494726643068929 2015-12-25 21:06:00  Twitter for iPhone   \n",
       "1779  677716515794329600 2015-12-18 05:06:23  Twitter for iPhone   \n",
       "1843  675853064436391936 2015-12-13 01:41:41  Twitter for iPhone   \n",
       "2074  670842764863651840 2015-11-29 05:52:33  Twitter for iPhone   \n",
       "\n",
       "                                                   text  \\\n",
       "433   The floofs have been released I repeat the flo...   \n",
       "516   Meet Sam. She smiles 24/7 &amp; secretly aspir...   \n",
       "695   This is Logan, the Chow who lived. He solemnly...   \n",
       "763   This is Sophie. She's a Jubilant Bush Pupper. ...   \n",
       "902   Why does this never happen at my front door......   \n",
       "979   This is Atticus. He's quite simply America af....   \n",
       "1120  Say hello to this unbelievably well behaved sq...   \n",
       "1202  This is Bluebert. He just saw that both #Final...   \n",
       "1228  Happy Saturday here's 9 puppers on a bench. 99...   \n",
       "1254  Here's a brigade of puppers. All look very pre...   \n",
       "1274  From left to right:\\nCletus, Jerome, Alejandro...   \n",
       "1351  Here is a whole flock of puppers.  60/50 I'll ...   \n",
       "1433  Happy Wednesday here's a bucket of pups. 44/40...   \n",
       "1635  Someone help the girl is being mugged. Several...   \n",
       "1712  Here we have uncovered an entire battalion of ...   \n",
       "1779  IT'S PUPPERGEDDON. Total of 144/120 ...I think...   \n",
       "1843  Here we have an entire platoon of puppers. Tot...   \n",
       "2074  After so many requests... here you go.\\n\\nGood...   \n",
       "\n",
       "                                          expanded_urls  rating_numerator  \\\n",
       "433   https://twitter.com/dog_rates/status/820690176...                84   \n",
       "516   https://www.gofundme.com/sams-smile,https://tw...                24   \n",
       "695   https://twitter.com/dog_rates/status/786709082...                75   \n",
       "763   https://twitter.com/dog_rates/status/778027034...                27   \n",
       "902   https://twitter.com/dog_rates/status/758467244...               165   \n",
       "979   https://twitter.com/dog_rates/status/749981277...              1776   \n",
       "1120  https://twitter.com/dog_rates/status/731156023...               204   \n",
       "1202  https://twitter.com/dog_rates/status/716439118...                50   \n",
       "1228  https://twitter.com/dog_rates/status/713900603...                99   \n",
       "1254  https://twitter.com/dog_rates/status/710658690...                80   \n",
       "1274  https://twitter.com/dog_rates/status/709198395...                45   \n",
       "1351  https://twitter.com/dog_rates/status/704054845...                60   \n",
       "1433  https://twitter.com/dog_rates/status/697463031...                44   \n",
       "1635  https://twitter.com/dog_rates/status/684222868...               121   \n",
       "1712  https://twitter.com/dog_rates/status/680494726...                26   \n",
       "1779  https://twitter.com/dog_rates/status/677716515...               144   \n",
       "1843  https://twitter.com/dog_rates/status/675853064...                88   \n",
       "2074  https://twitter.com/dog_rates/status/670842764...               420   \n",
       "\n",
       "      rating_denominator      name  retweet_count  favorite_count   stage  \n",
       "433                   70      None         3214.0         12217.0     NaN  \n",
       "516                    7       Sam         1447.0          5366.0     NaN  \n",
       "695                   10     Logan         6134.0         18307.0     NaN  \n",
       "763                   10    Sophie         1607.0          6548.0  pupper  \n",
       "902                  150      None         2188.0          4753.0     NaN  \n",
       "979                   10   Atticus         2427.0          5070.0     NaN  \n",
       "1120                 170      this         1237.0          3763.0     NaN  \n",
       "1202                  50  Bluebert          204.0          2331.0     NaN  \n",
       "1228                  90      None          721.0          2779.0     NaN  \n",
       "1254                  80      None          546.0          2259.0     NaN  \n",
       "1274                  50      None          630.0          2396.0     NaN  \n",
       "1351                  50         a          897.0          2870.0     NaN  \n",
       "1433                  40      None         1373.0          3364.0     NaN  \n",
       "1635                 110      None         1332.0          3754.0     NaN  \n",
       "1712                  10      None          475.0          1682.0     NaN  \n",
       "1779                 120      None          944.0          2964.0     NaN  \n",
       "1843                  80      None         1236.0          2589.0     NaN  \n",
       "2074                  10      None         8148.0         23413.0     NaN  "
      ]
     },
     "execution_count": 24,
     "metadata": {},
     "output_type": "execute_result"
    }
   ],
   "source": [
    "twitter_all_data_df_copy[twitter_all_data_df_copy.rating_numerator > 20]"
   ]
  },
  {
   "cell_type": "code",
   "execution_count": 25,
   "metadata": {},
   "outputs": [
    {
     "name": "stderr",
     "output_type": "stream",
     "text": [
      "/opt/conda/lib/python3.6/site-packages/ipykernel_launcher.py:16: SettingWithCopyWarning: \n",
      "A value is trying to be set on a copy of a slice from a DataFrame\n",
      "\n",
      "See the caveats in the documentation: http://pandas.pydata.org/pandas-docs/stable/indexing.html#indexing-view-versus-copy\n",
      "  app.launch_new_instance()\n",
      "/opt/conda/lib/python3.6/site-packages/ipykernel_launcher.py:17: SettingWithCopyWarning: \n",
      "A value is trying to be set on a copy of a slice from a DataFrame\n",
      "\n",
      "See the caveats in the documentation: http://pandas.pydata.org/pandas-docs/stable/indexing.html#indexing-view-versus-copy\n",
      "/opt/conda/lib/python3.6/site-packages/ipykernel_launcher.py:21: SettingWithCopyWarning: \n",
      "A value is trying to be set on a copy of a slice from a DataFrame\n",
      "\n",
      "See the caveats in the documentation: http://pandas.pydata.org/pandas-docs/stable/indexing.html#indexing-view-versus-copy\n",
      "/opt/conda/lib/python3.6/site-packages/ipykernel_launcher.py:22: SettingWithCopyWarning: \n",
      "A value is trying to be set on a copy of a slice from a DataFrame\n",
      "\n",
      "See the caveats in the documentation: http://pandas.pydata.org/pandas-docs/stable/indexing.html#indexing-view-versus-copy\n"
     ]
    },
    {
     "name": "stdout",
     "output_type": "stream",
     "text": [
      "Happy 4/20 from the squad! 13/10 for all https://t.co/eV1diwds8a\n"
     ]
    },
    {
     "name": "stderr",
     "output_type": "stream",
     "text": [
      "/opt/conda/lib/python3.6/site-packages/ipykernel_launcher.py:26: SettingWithCopyWarning: \n",
      "A value is trying to be set on a copy of a slice from a DataFrame\n",
      "\n",
      "See the caveats in the documentation: http://pandas.pydata.org/pandas-docs/stable/indexing.html#indexing-view-versus-copy\n",
      "/opt/conda/lib/python3.6/site-packages/ipykernel_launcher.py:27: SettingWithCopyWarning: \n",
      "A value is trying to be set on a copy of a slice from a DataFrame\n",
      "\n",
      "See the caveats in the documentation: http://pandas.pydata.org/pandas-docs/stable/indexing.html#indexing-view-versus-copy\n"
     ]
    }
   ],
   "source": [
    "#droping the rows that has prblems \n",
    "tmp=twitter_all_data_df_copy[twitter_all_data_df_copy.rating_numerator ==420].index\n",
    "twitter_all_data_df_copy.drop(tmp,inplace=True)\n",
    "\n",
    "tmp=twitter_all_data_df_copy[twitter_all_data_df_copy.rating_numerator == 1776].index\n",
    "twitter_all_data_df_copy.drop(tmp,inplace=True)\n",
    "\n",
    "tmp=twitter_all_data_df_copy[twitter_all_data_df_copy.rating_numerator == 24].index\n",
    "twitter_all_data_df_copy.drop(tmp,inplace=True)\n",
    "\n",
    "#extracing ratings again including frictions part                              \n",
    "twitter_all_data_df_copy['rating_numerator'] = twitter_all_data_df_copy.text.str.extract('(\\d+\\.?\\d?\\d?)\\/\\d{1,3}', expand = False).astype('float')\n",
    "twitter_all_data_df_copy['rating_denominator'] = twitter_all_data_df_copy.text.str.extract('\\d+\\.?\\d?\\d?\\/(\\d{1,3})', expand = False).astype('float')\n",
    "\n",
    "# 2335 wrong extraction 1/2 instead of 9/10\n",
    "twitter_all_data_df_copy['rating_numerator'][2335] = 9\n",
    "twitter_all_data_df_copy['rating_denominator'][2335] = 10 \n",
    "\n",
    "print(twitter_all_data_df_copy[twitter_all_data_df_copy.rating_denominator != 10]['text'][1165])\n",
    "#1165  wrong extraction 4/20 instead of 13/10\n",
    "twitter_all_data_df_copy['rating_numerator'][1165] = 13\n",
    "twitter_all_data_df_copy['rating_denominator'][1165] = 10 \n",
    "\n",
    "#normlize all denominators to be 10 , and fixing coresponding nominators\n",
    "var= twitter_all_data_df_copy[twitter_all_data_df_copy['rating_denominator'] != 10].index\n",
    "twitter_all_data_df_copy['rating_numerator'][var] = twitter_all_data_df_copy['rating_numerator'][var] * 10 /twitter_all_data_df_copy['rating_denominator'][var]\n",
    "twitter_all_data_df_copy['rating_denominator'][var] = 10"
   ]
  },
  {
   "cell_type": "markdown",
   "metadata": {},
   "source": [
    "### test"
   ]
  },
  {
   "cell_type": "code",
   "execution_count": 26,
   "metadata": {
    "scrolled": true
   },
   "outputs": [
    {
     "name": "stdout",
     "output_type": "stream",
     "text": [
      "12.000000    489\n",
      "10.000000    436\n",
      "11.000000    418\n",
      "13.000000    288\n",
      "9.000000     154\n",
      "8.000000      98\n",
      "7.000000      51\n",
      "14.000000     38\n",
      "5.000000      33\n",
      "6.000000      32\n",
      "3.000000      19\n",
      "4.000000      15\n",
      "2.000000       9\n",
      "1.000000       4\n",
      "9.750000       1\n",
      "0.000000       1\n",
      "11.260000      1\n",
      "11.270000      1\n",
      "13.500000      1\n",
      "8.181818       1\n",
      "6.363636       1\n",
      "Name: rating_numerator, dtype: int64\n",
      "10.0    2091\n",
      "Name: rating_denominator, dtype: int64\n"
     ]
    }
   ],
   "source": [
    "print(twitter_all_data_df_copy.rating_numerator.value_counts())\n",
    "print(twitter_all_data_df_copy.rating_denominator.value_counts())"
   ]
  },
  {
   "cell_type": "markdown",
   "metadata": {},
   "source": [
    "### define \n",
    "- replacing 'None' to Nan in 'name' column\n",
    "- solving 27 wrong extracted name by using str.exctract() method to catch the word after the word 'named' or 'name is'\n",
    "- replace ‘a’ and 'the' and 'an' value in name column to be NaN"
   ]
  },
  {
   "cell_type": "markdown",
   "metadata": {},
   "source": [
    "### code"
   ]
  },
  {
   "cell_type": "code",
   "execution_count": 27,
   "metadata": {},
   "outputs": [
    {
     "name": "stderr",
     "output_type": "stream",
     "text": [
      "/opt/conda/lib/python3.6/site-packages/ipykernel_launcher.py:13: SettingWithCopyWarning: \n",
      "A value is trying to be set on a copy of a slice from a DataFrame\n",
      "\n",
      "See the caveats in the documentation: http://pandas.pydata.org/pandas-docs/stable/indexing.html#indexing-view-versus-copy\n",
      "  del sys.path[0]\n"
     ]
    }
   ],
   "source": [
    "twitter_all_data_df_copy.name.replace('None',np.nan,inplace=True)\n",
    "\n",
    "\n",
    "#extract names according to the pattern\n",
    "vari=twitter_all_data_df_copy.query('name == \"a\" or name.isnull()',engine ='python')['text'].str.extract('named* [is]*\\s*(\\S+)')\n",
    "\n",
    "vari.dropna(inplace=True)\n",
    "\n",
    "#take the indexes of succeefully extracted names\n",
    "x=vari.index\n",
    "\n",
    "#replace NaN or 'a' value with the extracted name \n",
    "twitter_all_data_df_copy.name[x]=vari[0]\n",
    "\n",
    "#replace ‘a’ and 'the' and 'an' value in name column to be NaN\n",
    "twitter_all_data_df_copy.name.replace(r'^(the|a|an)', np.NaN,inplace=True, regex=True) "
   ]
  },
  {
   "cell_type": "code",
   "execution_count": 28,
   "metadata": {},
   "outputs": [
    {
     "data": {
      "text/plain": [
       "35         Howard.\n",
       "168           Zoey\n",
       "1596          from\n",
       "1678         Thea.\n",
       "1734    Sabertooth\n",
       "1853        Wylie.\n",
       "1955          Kip.\n",
       "2034         Jacob\n",
       "2066        Rufus.\n",
       "2086            of\n",
       "2116        Spork.\n",
       "2125     Cherokee.\n",
       "2128        Hemry.\n",
       "2146      Alphred.\n",
       "2161      Alfredo.\n",
       "2166         Zeus.\n",
       "2191        Leroi.\n",
       "2218         Chuk.\n",
       "2227         Guss.\n",
       "2235      Alfonso.\n",
       "2249       Cheryl.\n",
       "2255      Jessiga.\n",
       "2264        Klint.\n",
       "2267           Big\n",
       "2269      Tickles.\n",
       "2273         Kohl.\n",
       "2287        Daryl.\n",
       "2304         Pepe.\n",
       "2311    Octaviath.\n",
       "2314         Johm.\n",
       "Name: name, dtype: object"
      ]
     },
     "execution_count": 28,
     "metadata": {},
     "output_type": "execute_result"
    }
   ],
   "source": [
    "twitter_all_data_df_copy.name[x]\n"
   ]
  },
  {
   "cell_type": "markdown",
   "metadata": {},
   "source": [
    "### define \n",
    "- rename columns in image_predictions_df_copy\n",
    "- solving tidiness issue  bu using pd.wide_to_long \n",
    "- changin 'tweet_id','img_num', 'prediction_level' data type to 'str'"
   ]
  },
  {
   "cell_type": "markdown",
   "metadata": {},
   "source": [
    "### code"
   ]
  },
  {
   "cell_type": "code",
   "execution_count": 29,
   "metadata": {},
   "outputs": [],
   "source": [
    "columns=['tweet_id', 'jpg_url', 'img_num', 'prediction-1', 'confidence-1', 'breed-1',\n",
    "         'prediction-2', 'confidence-2', 'breed-2', 'prediction-3', 'confidence-3', 'breed-3']\n",
    "\n",
    "image_predictions_df_copy.columns= columns\n",
    "\n",
    "image_predictions_df_copy=pd.wide_to_long(image_predictions_df_copy,stubnames=['prediction', 'confidence', 'breed'], \n",
    " i=['tweet_id', 'jpg_url', 'img_num'], j='prediction_level', sep=\"-\").reset_index()\n",
    "\n",
    "image_predictions_df_copy['tweet_id'] = image_predictions_df_copy['tweet_id'].astype(str)\n",
    "image_predictions_df_copy['img_num'] = image_predictions_df_copy['img_num'].astype(str)\n",
    "image_predictions_df_copy['prediction_level'] = image_predictions_df_copy['prediction_level'].astype(str)\n"
   ]
  },
  {
   "cell_type": "markdown",
   "metadata": {},
   "source": [
    "### test"
   ]
  },
  {
   "cell_type": "code",
   "execution_count": 30,
   "metadata": {},
   "outputs": [
    {
     "data": {
      "text/html": [
       "<div>\n",
       "<style scoped>\n",
       "    .dataframe tbody tr th:only-of-type {\n",
       "        vertical-align: middle;\n",
       "    }\n",
       "\n",
       "    .dataframe tbody tr th {\n",
       "        vertical-align: top;\n",
       "    }\n",
       "\n",
       "    .dataframe thead th {\n",
       "        text-align: right;\n",
       "    }\n",
       "</style>\n",
       "<table border=\"1\" class=\"dataframe\">\n",
       "  <thead>\n",
       "    <tr style=\"text-align: right;\">\n",
       "      <th></th>\n",
       "      <th>tweet_id</th>\n",
       "      <th>jpg_url</th>\n",
       "      <th>img_num</th>\n",
       "      <th>prediction_level</th>\n",
       "      <th>prediction</th>\n",
       "      <th>confidence</th>\n",
       "      <th>breed</th>\n",
       "    </tr>\n",
       "  </thead>\n",
       "  <tbody>\n",
       "    <tr>\n",
       "      <th>0</th>\n",
       "      <td>666020888022790149</td>\n",
       "      <td>https://pbs.twimg.com/media/CT4udn0WwAA0aMy.jpg</td>\n",
       "      <td>1</td>\n",
       "      <td>1</td>\n",
       "      <td>Welsh_springer_spaniel</td>\n",
       "      <td>0.465074</td>\n",
       "      <td>True</td>\n",
       "    </tr>\n",
       "  </tbody>\n",
       "</table>\n",
       "</div>"
      ],
      "text/plain": [
       "             tweet_id                                          jpg_url  \\\n",
       "0  666020888022790149  https://pbs.twimg.com/media/CT4udn0WwAA0aMy.jpg   \n",
       "\n",
       "  img_num prediction_level              prediction  confidence  breed  \n",
       "0       1                1  Welsh_springer_spaniel    0.465074   True  "
      ]
     },
     "execution_count": 30,
     "metadata": {},
     "output_type": "execute_result"
    }
   ],
   "source": [
    "image_predictions_df_copy.head(1)"
   ]
  },
  {
   "cell_type": "markdown",
   "metadata": {},
   "source": [
    "### define \n",
    "- merging \"image_predictions_df_copy\" with \"twitter_all_data_df_copy\" to use dog's breed in analysing \n",
    "\n",
    "- dropping all False values\n",
    "\n",
    "- if there was duplicated values becucase of different algrothims prediction , the highest prediction confidence will be taken , and the others will be dropped "
   ]
  },
  {
   "cell_type": "markdown",
   "metadata": {},
   "source": [
    "### Code"
   ]
  },
  {
   "cell_type": "code",
   "execution_count": 31,
   "metadata": {},
   "outputs": [],
   "source": [
    "twitter_archive_master=pd.merge(image_predictions_df_copy,twitter_all_data_df_copy,how='inner',left_on='tweet_id',right_on='tweet_id')\n",
    "\n",
    "index=twitter_archive_master.query('breed == False').index\n",
    "twitter_archive_master.drop(index,inplace=True)\n",
    "\n",
    "index=twitter_archive_master[twitter_archive_master.tweet_id.duplicated()].index\n",
    "twitter_archive_master.drop(index,inplace=True)"
   ]
  },
  {
   "cell_type": "markdown",
   "metadata": {},
   "source": [
    "### test"
   ]
  },
  {
   "cell_type": "code",
   "execution_count": 32,
   "metadata": {},
   "outputs": [
    {
     "name": "stdout",
     "output_type": "stream",
     "text": [
      "0\n"
     ]
    },
    {
     "data": {
      "text/plain": [
       "True    1665\n",
       "Name: breed, dtype: int64"
      ]
     },
     "execution_count": 32,
     "metadata": {},
     "output_type": "execute_result"
    }
   ],
   "source": [
    "print(sum(twitter_archive_master.tweet_id.duplicated()))\n",
    "twitter_archive_master.breed.value_counts()"
   ]
  },
  {
   "cell_type": "markdown",
   "metadata": {},
   "source": [
    "### define\n",
    "- save the merged dataframe"
   ]
  },
  {
   "cell_type": "markdown",
   "metadata": {},
   "source": [
    "### code"
   ]
  },
  {
   "cell_type": "code",
   "execution_count": 33,
   "metadata": {},
   "outputs": [],
   "source": [
    "twitter_archive_master.to_csv('twitter_archive_master.csv',index=False)"
   ]
  },
  {
   "cell_type": "markdown",
   "metadata": {},
   "source": [
    "# This part is for visualization that dosen't need breeds of dog in it\n",
    "- plot \"Number of Tweets per Month VS time\" in line shape\n",
    "- plot \"Avg favorite and retweet number in  a tweet from 2015 to 2017\" in  line shape\n",
    "- plot \"Avg favourite and retweet counts  vs the hour a tweet came out\" in bar shape\n",
    "- plot \"Number of weets posted in each hour\" in bar shape\n",
    "- plot \"the favourite and retweet numbers vs stage \" in bar shape\n",
    "- plot \"applications that tweet from \" in pie shape\n",
    "- use value_counts() to get top 10 names used with dogs"
   ]
  },
  {
   "cell_type": "code",
   "execution_count": 34,
   "metadata": {},
   "outputs": [
    {
     "data": {
      "text/plain": [
       "Text(0.5,1,'Number of Tweets per Month VS time')"
      ]
     },
     "execution_count": 34,
     "metadata": {},
     "output_type": "execute_result"
    },
    {
     "data": {
      "image/png": "[encoded data removed]",
      "text/plain": [
       "<matplotlib.figure.Figure at 0x7f65fc993a58>"
      ]
     },
     "metadata": {},
     "output_type": "display_data"
    }
   ],
   "source": [
    "sns.set_style('darkgrid')\n",
    "twitter_all_data_df_copy['timestamp'] = pd.to_datetime(twitter_all_data_df_copy['timestamp'])\n",
    "twitter_all_data_df_copy['hour']=twitter_all_data_df_copy.timestamp.dt.hour\n",
    "twitter_all_data_df_copy['month']=twitter_all_data_df_copy.timestamp.dt.month\n",
    "twitter_all_data_df_copy['year']=twitter_all_data_df_copy.timestamp.dt.year\n",
    "x=twitter_all_data_df_copy.groupby(['year','month'])['tweet_id'].count()[:-1]\n",
    "x.plot.line(figsize=(8,8),fontsize=13,label=\"Retweet\")\n",
    "plt.ylabel('Number of Tweets',fontsize=15)\n",
    "plt.xlabel('Time',fontsize=15)\n",
    "plt.title('Number of Tweets per Month VS time',fontsize=15)"
   ]
  },
  {
   "cell_type": "code",
   "execution_count": 35,
   "metadata": {
    "scrolled": false
   },
   "outputs": [
    {
     "data": {
      "text/plain": [
       "<matplotlib.legend.Legend at 0x7f65fa82a978>"
      ]
     },
     "execution_count": 35,
     "metadata": {},
     "output_type": "execute_result"
    },
    {
     "data": {
      "image/png": "[encoded data removed]",
      "text/plain": [
       "<matplotlib.figure.Figure at 0x7f65fa8a7080>"
      ]
     },
     "metadata": {},
     "output_type": "display_data"
    }
   ],
   "source": [
    "twitter_all_data_df_copy.groupby(['year','month'])['favorite_count'].mean().plot.line(figsize=(8,8),fontsize=13,label=\"Fvaourite\")\n",
    "twitter_all_data_df_copy.groupby(['year','month'])['retweet_count'].mean().plot.line(figsize=(8,8),fontsize=13,label=\"Retweet\")\n",
    "#twitter.groupby(['year','month'])['tweet_id'].count().plot.line(figsize=(8,8),fontsize=10,label=\"Retweet\")\n",
    "plt.xlabel('Time',fontsize=13)\n",
    "plt.ylabel('Avg favorite and retweet count',fontsize=13)\n",
    "plt.title('Avg favorite and retweet number in  a tweet from 2015 to 2017',fontsize=14)\n",
    "plt.legend()"
   ]
  },
  {
   "cell_type": "code",
   "execution_count": 36,
   "metadata": {},
   "outputs": [
    {
     "data": {
      "text/plain": [
       "<matplotlib.legend.Legend at 0x7f65fa7a09b0>"
      ]
     },
     "execution_count": 36,
     "metadata": {},
     "output_type": "execute_result"
    },
    {
     "data": {
      "image/png": "[encoded data removed]",
      "text/plain": [
       "<matplotlib.figure.Figure at 0x7f65fa7e4ac8>"
      ]
     },
     "metadata": {},
     "output_type": "display_data"
    }
   ],
   "source": [
    "\n",
    "x=twitter_all_data_df_copy.groupby('hour')['favorite_count'].mean()\n",
    "y=twitter_all_data_df_copy.groupby('hour')['retweet_count'].mean()\n",
    "plt.figure(figsize=(12,8))\n",
    "fav = plt.bar(x.index, x , .4, color='g', alpha=.7, label='fav')\n",
    "ret = plt.bar(y.index + .4, y , .4, color='b', alpha=.7, label='retweet')\n",
    "ind = np.arange(len(x.index))\n",
    "plt.ylabel('Avg favourite an tweet counts',fontsize=18)\n",
    "plt.xlabel('Hour of tweet',fontsize=18)\n",
    "plt.title('Avg favourite and retweet counts  vs the hour a tweet came out ',fontsize=18)\n",
    "labels=x.index\n",
    "locations = labels\n",
    "plt.xticks(locations, labels)\n",
    "plt.legend()"
   ]
  },
  {
   "cell_type": "code",
   "execution_count": 37,
   "metadata": {},
   "outputs": [
    {
     "data": {
      "text/plain": [
       "<matplotlib.legend.Legend at 0x7f65fa70e6d8>"
      ]
     },
     "execution_count": 37,
     "metadata": {},
     "output_type": "execute_result"
    },
    {
     "data": {
      "image/png": "[encoded data removed]",
      "text/plain": [
       "<matplotlib.figure.Figure at 0x7f65fa7bfef0>"
      ]
     },
     "metadata": {},
     "output_type": "display_data"
    }
   ],
   "source": [
    "ind =np.arange(len(range(25))) \n",
    "# sales['date'].dt.hour  \n",
    "x=twitter_all_data_df_copy.groupby('hour')['tweet_id'].count()\n",
    "plt.figure(figsize=(8,8))\n",
    "hour = plt.bar(x.index,x, .7, color='b', alpha=.7, label='hour')\n",
    "plt.ylabel('Number of Tweets',fontsize=14)\n",
    "plt.xlabel('hour',fontsize=14)\n",
    "plt.title('Number of weets posted in each hour ',fontsize=15)\n",
    "locations = x.index # xtick locations\n",
    "labels = x.index  # xtick labels\n",
    "plt.xticks(locations, labels,fontsize=13)\n",
    "plt.xticks(fontsize=13)\n",
    "plt.legend()"
   ]
  },
  {
   "cell_type": "code",
   "execution_count": 38,
   "metadata": {},
   "outputs": [
    {
     "data": {
      "text/plain": [
       "<matplotlib.legend.Legend at 0x7f65fa6761d0>"
      ]
     },
     "execution_count": 38,
     "metadata": {},
     "output_type": "execute_result"
    },
    {
     "data": {
      "image/png": "[encoded data removed]",
      "text/plain": [
       "<matplotlib.figure.Figure at 0x7f65fd29ac88>"
      ]
     },
     "metadata": {},
     "output_type": "display_data"
    }
   ],
   "source": [
    "# plot bars\n",
    "favorite_count=twitter_all_data_df_copy.groupby('stage')['favorite_count'].mean()\n",
    "retweet_count=twitter_all_data_df_copy.groupby('stage')['retweet_count'].mean()\n",
    "sns.set_style('darkgrid')\n",
    "ind =np.arange(len(retweet_count)) \n",
    "width=0.35\n",
    "plt.figure(figsize=(8,8))\n",
    "red_bars = plt.bar(ind,retweet_count, width, color='r', alpha=.7, label='retweet_count')\n",
    "white_bars = plt.bar(ind + width,favorite_count, width, color='w', alpha=.7, label='favourtie_count')\n",
    "\n",
    "# title and labels\n",
    "plt.ylabel('frequency')\n",
    "plt.xlabel('stage')\n",
    "plt.title('the favourite and retweet numbers vs stage ')\n",
    "locations = ind + width / 2  # xtick locations\n",
    "labels = retweet_count.index  # xtick labels\n",
    "plt.xticks(locations, labels)\n",
    "\n",
    "# legend\n",
    "plt.legend()"
   ]
  },
  {
   "cell_type": "code",
   "execution_count": 39,
   "metadata": {},
   "outputs": [
    {
     "data": {
      "text/plain": [
       "Text(0,0.5,'')"
      ]
     },
     "execution_count": 39,
     "metadata": {},
     "output_type": "execute_result"
    },
    {
     "data": {
      "image/png": "[encoded data removed]",
      "text/plain": [
       "<matplotlib.figure.Figure at 0x7f65fa7e4be0>"
      ]
     },
     "metadata": {},
     "output_type": "display_data"
    }
   ],
   "source": [
    "twitter_all_data_df_copy['source'].value_counts().plot.pie(figsize=(8,8),fontsize=11)\n",
    "plt.title('applications that tweet from ')\n",
    "plt.ylabel(\"\")"
   ]
  },
  {
   "cell_type": "code",
   "execution_count": 40,
   "metadata": {},
   "outputs": [
    {
     "data": {
      "text/plain": [
       "Charlie    11\n",
       "Cooper     10\n",
       "Oliver     10\n",
       "Tucker      9\n",
       "Penny       9\n",
       "Sadie       8\n",
       "Winston     8\n",
       "Lola        8\n",
       "Toby        7\n",
       "Daisy       7\n",
       "Name: name, dtype: int64"
      ]
     },
     "execution_count": 40,
     "metadata": {},
     "output_type": "execute_result"
    }
   ],
   "source": [
    "twitter_all_data_df_copy['name'].value_counts()[1:11]\n"
   ]
  },
  {
   "cell_type": "markdown",
   "metadata": {},
   "source": [
    "# the following part is the visualization  using breeds of dogs\n",
    "- plot highest 12 breeds of dogs appeared in tweets \n",
    "- plot highest 12 breeds of dogs got highest number of favourite and retweets "
   ]
  },
  {
   "cell_type": "code",
   "execution_count": 41,
   "metadata": {},
   "outputs": [
    {
     "data": {
      "text/plain": [
       "Text(0,0.5,\"Dog's Breed\")"
      ]
     },
     "execution_count": 41,
     "metadata": {},
     "output_type": "execute_result"
    },
    {
     "data": {
      "image/png": "[encoded data removed]",
      "text/plain": [
       "<matplotlib.figure.Figure at 0x7f65fa6d4780>"
      ]
     },
     "metadata": {},
     "output_type": "display_data"
    }
   ],
   "source": [
    "x=twitter_archive_master.groupby('prediction')['tweet_id'].count().sort_values(ascending=False)[12::-1].plot(kind='barh',figsize=(8,8), fontsize=13)\n",
    "plt.title(\"Most frequent Dog's Breeds\",fontsize=15)\n",
    "plt.xlabel(\"Number of accurance\",fontsize=14)\n",
    "plt.ylabel(\"Dog's Breed\",fontsize=14)"
   ]
  },
  {
   "cell_type": "code",
   "execution_count": 42,
   "metadata": {},
   "outputs": [
    {
     "data": {
      "text/plain": [
       "<matplotlib.legend.Legend at 0x7f65fa339e48>"
      ]
     },
     "execution_count": 42,
     "metadata": {},
     "output_type": "execute_result"
    },
    {
     "data": {
      "image/png": "[encoded data removed]",
      "text/plain": [
       "<matplotlib.figure.Figure at 0x7f65fa599ba8>"
      ]
     },
     "metadata": {},
     "output_type": "display_data"
    }
   ],
   "source": [
    "lis_df=[]\n",
    "x=twitter_archive_master.groupby('prediction')['favorite_count'].mean().sort_values(ascending=False)[12::-1]\n",
    "temp=twitter_archive_master.groupby('prediction')['retweet_count'].mean().sort_values(ascending=False)\n",
    "\n",
    "for i in x.index :\n",
    "    retweet=temp[i]\n",
    "    lis_df.append({\"breed\":i,\"retweet\":retweet})\n",
    "var_df= pd.DataFrame(lis_df)\n",
    "z=var_df['retweet']\n",
    "\n",
    "plt.figure(figsize=(8,8))\n",
    "ind = np.arange(len(x.index))\n",
    "fav = plt.barh(ind  , x , .35, color='g', alpha=.7, label='fav')\n",
    "retweet = plt.barh(ind + .35 ,z,.35,color='r', alpha=.7, label='retweet')\n",
    "labels= x.index # xtick locations\n",
    "locations =ind +.35/2\n",
    "plt.yticks(locations, labels,fontsize=13)\n",
    "plt.xticks(fontsize=13)\n",
    "plt.xlabel(\"Avg favourite and retweet counts\",fontsize=14)\n",
    "plt.ylabel(\"Breed\",fontsize=14)\n",
    "plt.title(\"Avg favourite and retweet counts for highest 12 breed of dogs\",fontsize=15)\n",
    "plt.legend()"
   ]
  },
  {
   "cell_type": "code",
   "execution_count": null,
   "metadata": {},
   "outputs": [],
   "source": []
  }
 ],
 "metadata": {
  "kernelspec": {
   "display_name": "Python 3",
   "language": "python",
   "name": "python3"
  },
  "language_info": {
   "codemirror_mode": {
    "name": "ipython",
    "version": 3
   },
   "file_extension": ".py",
   "mimetype": "text/x-python",
   "name": "python",
   "nbconvert_exporter": "python",
   "pygments_lexer": "ipython3",
   "version": "3.6.3"
  }
 },
 "nbformat": 4,
 "nbformat_minor": 4
}
